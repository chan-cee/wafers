{
 "cells": [
  {
   "cell_type": "code",
   "execution_count": 2,
   "metadata": {},
   "outputs": [],
   "source": [
    "import sklearn\n",
    "import pandas as pd"
   ]
  },
  {
   "attachments": {},
   "cell_type": "markdown",
   "metadata": {},
   "source": [
    "# Importing processed data (feature engineered)"
   ]
  },
  {
   "cell_type": "code",
   "execution_count": 3,
   "metadata": {},
   "outputs": [],
   "source": [
    "import pickle\n",
    "\n",
    "with open('yk_dataframes.pkl', 'rb') as file:\n",
    "    data = pickle.load(file)\n",
    "\n",
    "yk_full = data['yk_full']\n",
    "yk_dropped = data['yk_dropped']\n",
    "\n",
    "\n",
    "with open('ty_dataframes.pkl', 'rb') as file:\n",
    "    data = pickle.load(file)\n",
    "\n",
    "ty_full = data['ty_full']\n",
    "ty_dropped = data['ty_dropped']\n",
    "\n",
    "df_full = pd.concat([yk_full, ty_full], axis=0)"
   ]
  },
  {
   "attachments": {},
   "cell_type": "markdown",
   "metadata": {},
   "source": [
    "# Importing test values (before feature engineer)"
   ]
  },
  {
   "cell_type": "code",
   "execution_count": 4,
   "metadata": {},
   "outputs": [],
   "source": [
    "with open('yk_values_dataframe.pkl', 'rb') as file:\n",
    "    yk_values = pickle.load(file)\n",
    "\n",
    "with open('ty_values_dataframe.pkl', 'rb') as file:\n",
    "    ty_values = pickle.load(file)"
   ]
  },
  {
   "cell_type": "code",
   "execution_count": 5,
   "metadata": {},
   "outputs": [],
   "source": [
    "yk_target = yk_values.loc['Distribution Type'].apply(lambda x: 1 if x in ['longtail', 'outlier'] else 0)\n",
    "\n",
    "ty_target = ty_values.loc['Distribution Type'].apply(lambda x: 1 if x in ['longtail', 'outlier'] else 0)"
   ]
  },
  {
   "cell_type": "code",
   "execution_count": 21,
   "metadata": {},
   "outputs": [],
   "source": [
    "import numpy as np\n",
    "import scipy.stats as stats\n",
    "import matplotlib.pyplot as plt\n",
    "\n",
    "def classify_qq_outliers(data, outlier_threshold=3, long_tail_threshold=3):\n",
    "    \n",
    "    data = pd.to_numeric(data , errors='coerce').dropna()\n",
    "\n",
    "    if np.std(data) < 1e-8: # data is nearly constant\n",
    "        return 0, 0\n",
    "\n",
    "    # comparing to theoretical distribution\n",
    "    (osm, osr), (slope, intercept, r) = stats.probplot(data, dist=\"norm\", plot=None)\n",
    "    \n",
    "    # calculate deviation from the theoretical line\n",
    "    theoretical_line = slope * osm + intercept\n",
    "    deviations = osr - theoretical_line\n",
    "    \n",
    "    # identify outliers: points that deviate significantly from the line\n",
    "    outliers = np.abs(deviations) > outlier_threshold * np.std(deviations)\n",
    "    \n",
    "    # identify long-tail behavior: consistent deviation in the tails\n",
    "    long_tail_upper = deviations > long_tail_threshold * np.std(deviations)\n",
    "    long_tail_lower = deviations < -long_tail_threshold * np.std(deviations)\n",
    "    long_tail = long_tail_upper | long_tail_lower\n",
    "\n",
    "    both_outlier_and_long_tail = outliers & long_tail\n",
    "\n",
    "    # plt.figure(figsize=(9, 5))\n",
    "    # plt.plot(osm, osr, 'o', label=\"Sample Quantiles\")\n",
    "    # plt.plot(osm, theoretical_line, 'r--', label=\"Theoretical Quantiles\")\n",
    "    # plt.scatter(osm[outliers], osr[outliers], color='orange', label=\"Outliers\", zorder=5)\n",
    "    # plt.scatter(osm[long_tail], osr[long_tail], color='green', label=\"Long Tail\", zorder=5)\n",
    "    # plt.scatter(osm[both_outlier_and_long_tail], osr[both_outlier_and_long_tail], color='purple', label=\"Both Outlier and Long Tail\", zorder=5)\n",
    "    # plt.xlabel(\"Theoretical Quantiles\")\n",
    "    # plt.ylabel(\"Sample Quantiles\")\n",
    "    # plt.legend()\n",
    "    # plt.title(\"QQ Plot with Outlier and Long-Tail Classification\")\n",
    "    # plt.show()\n",
    "\n",
    "    outliers_count = np.sum(outliers)\n",
    "    longtail_count = np.sum(long_tail)\n",
    "\n",
    "    return outliers_count, longtail_count"
   ]
  },
  {
   "cell_type": "code",
   "execution_count": 18,
   "metadata": {},
   "outputs": [],
   "source": [
    "def qq_predict(data, threshold, ot, lt):\n",
    "    preds = []\n",
    "    for col in data:\n",
    "        values = data[col]\n",
    "        outliers, longtail = classify_qq_outliers(values, ot, lt)\n",
    "        total = outliers + longtail\n",
    "        if total > threshold:\n",
    "            preds.append(1)\n",
    "        else:\n",
    "            preds.append(0)\n",
    "    return preds"
   ]
  },
  {
   "cell_type": "code",
   "execution_count": 23,
   "metadata": {},
   "outputs": [
    {
     "name": "stdout",
     "output_type": "stream",
     "text": [
      "              precision    recall  f1-score   support\n",
      "\n",
      "           0       0.96      0.45      0.61       490\n",
      "           1       0.66      0.98      0.79       535\n",
      "\n",
      "    accuracy                           0.73      1025\n",
      "   macro avg       0.81      0.72      0.70      1025\n",
      "weighted avg       0.80      0.73      0.70      1025\n",
      "\n"
     ]
    }
   ],
   "source": [
    "from sklearn.metrics import classification_report\n",
    "\n",
    "yk_predictions = qq_predict(yk_values[2:], 0, 5, 5)\n",
    "\n",
    "print(classification_report(yk_target, yk_predictions))"
   ]
  },
  {
   "cell_type": "code",
   "execution_count": 24,
   "metadata": {},
   "outputs": [
    {
     "name": "stdout",
     "output_type": "stream",
     "text": [
      "              precision    recall  f1-score   support\n",
      "\n",
      "           0       1.00      0.24      0.39      1239\n",
      "           1       0.15      1.00      0.26       163\n",
      "\n",
      "    accuracy                           0.33      1402\n",
      "   macro avg       0.57      0.62      0.32      1402\n",
      "weighted avg       0.90      0.33      0.37      1402\n",
      "\n"
     ]
    }
   ],
   "source": [
    "from sklearn.metrics import classification_report\n",
    "\n",
    "ty_predictions = qq_predict(ty_values[2:], 0, 5, 5)\n",
    "\n",
    "print(classification_report(ty_target, ty_predictions))"
   ]
  },
  {
   "cell_type": "code",
   "execution_count": null,
   "metadata": {},
   "outputs": [
    {
     "name": "stdout",
     "output_type": "stream",
     "text": [
      "{'f1_threshold': 20, 'recall_threshold': 0}\n"
     ]
    }
   ],
   "source": [
    "from sklearn.metrics import classification_report\n",
    "\n",
    "best_f1_score = 0\n",
    "best_recall = 0\n",
    "\n",
    "thresholds = {\"f1_threshold\": 0, \"recall_threshold\": 0}\n",
    "\n",
    "for i in range(0, 21, 2):\n",
    "    threshold = i \n",
    "    predictions = qq_predict(ty_values[2:], threshold)\n",
    "    report = classification_report(ty_target, predictions, output_dict=True)\n",
    "    f1_score = report['1']['f1-score'] \n",
    "    recall = report['1']['recall'] \n",
    "\n",
    "    if f1_score > best_f1_score:\n",
    "        best_f1_score = f1_score\n",
    "        thresholds['f1_threshold'] = i\n",
    "\n",
    "    if recall > best_recall:\n",
    "        best_recall = recall\n",
    "        thresholds['recall_threshold'] = i\n",
    "\n",
    "print(thresholds)"
   ]
  },
  {
   "cell_type": "code",
   "execution_count": 14,
   "metadata": {},
   "outputs": [
    {
     "name": "stdout",
     "output_type": "stream",
     "text": [
      "{'outlier_threshold': 5.0, 'longtail_threshold': 5.0}\n",
      "{'outlier_threshold': 0.1, 'longtail_threshold': 0.1}\n"
     ]
    }
   ],
   "source": [
    "f1_thresholds = {\"outlier_threshold\": 0, \"longtail_threshold\": 0}\n",
    "recall_thresholds = {\"outlier_threshold\": 0, \"longtail_threshold\": 0}\n",
    "best_f1_score = 0\n",
    "best_recall_score = 0\n",
    "\n",
    "outlier_thresholds = np.linspace(0.1, 5.0, 5)\n",
    "long_tail_thresholds = np.linspace(0.1, 5.0, 5)\n",
    "\n",
    "for ot in outlier_thresholds:\n",
    "    for lt in long_tail_thresholds:\n",
    "        predictions = qq_predict(ty_values[2:], 0, ot, lt)\n",
    "        report = classification_report(ty_target, predictions, output_dict=True)\n",
    "        f1_score = report['1']['f1-score'] \n",
    "        recall = report['1']['recall'] \n",
    "        \n",
    "        if f1_score > best_f1_score:\n",
    "            best_f1_score = f1_score\n",
    "            f1_thresholds = {\"outlier_threshold\": ot, \"longtail_threshold\": lt}\n",
    "\n",
    "        if recall > best_recall_score:\n",
    "            best_recall_score = recall\n",
    "            recall_thresholds = {\"outlier_threshold\": ot, \"longtail_threshold\": lt}\n",
    "\n",
    "print(f1_thresholds)  \n",
    "print(recall_thresholds)                  "
   ]
  },
  {
   "cell_type": "code",
   "execution_count": 15,
   "metadata": {},
   "outputs": [
    {
     "name": "stdout",
     "output_type": "stream",
     "text": [
      "{'outlier_threshold': 5.0, 'longtail_threshold': 5.0}\n",
      "{'outlier_threshold': 0.1, 'longtail_threshold': 0.1}\n"
     ]
    }
   ],
   "source": [
    "f1_thresholds = {\"outlier_threshold\": 0, \"longtail_threshold\": 0}\n",
    "recall_thresholds = {\"outlier_threshold\": 0, \"longtail_threshold\": 0}\n",
    "best_f1_score = 0\n",
    "best_recall_score = 0\n",
    "\n",
    "outlier_thresholds = np.linspace(0.1, 5.0, 5)\n",
    "long_tail_thresholds = np.linspace(0.1, 5.0, 5)\n",
    "\n",
    "for ot in outlier_thresholds:\n",
    "    for lt in long_tail_thresholds:\n",
    "        predictions = qq_predict(yk_values[2:], 0, ot, lt)\n",
    "        report = classification_report(yk_target, predictions, output_dict=True)\n",
    "        f1_score = report['1']['f1-score'] \n",
    "        recall = report['1']['recall'] \n",
    "        \n",
    "        if f1_score > best_f1_score:\n",
    "            best_f1_score = f1_score\n",
    "            f1_thresholds = {\"outlier_threshold\": ot, \"longtail_threshold\": lt}\n",
    "\n",
    "        if recall > best_recall_score:\n",
    "            best_recall_score = recall\n",
    "            recall_thresholds = {\"outlier_threshold\": ot, \"longtail_threshold\": lt}\n",
    "\n",
    "print(f1_thresholds)  \n",
    "print(recall_thresholds)    "
   ]
  }
 ],
 "metadata": {
  "kernelspec": {
   "display_name": "Python 3",
   "language": "python",
   "name": "python3"
  },
  "language_info": {
   "codemirror_mode": {
    "name": "ipython",
    "version": 3
   },
   "file_extension": ".py",
   "mimetype": "text/x-python",
   "name": "python",
   "nbconvert_exporter": "python",
   "pygments_lexer": "ipython3",
   "version": "3.9.18"
  },
  "orig_nbformat": 4,
  "vscode": {
   "interpreter": {
    "hash": "a665b5d41d17b532ea9890333293a1b812fa0b73c9c25c950b3cedf1bebd0438"
   }
  }
 },
 "nbformat": 4,
 "nbformat_minor": 2
}
