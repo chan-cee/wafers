{
 "cells": [
  {
   "cell_type": "code",
   "execution_count": 2,
   "metadata": {},
   "outputs": [],
   "source": [
    "import pickle\n",
    "\n",
    "with open('ty_dataframes.pkl', 'rb') as file:\n",
    "    data = pickle.load(file)\n",
    "\n",
    "ty_full = data['ty_full']\n",
    "ty_dropped = data['ty_dropped']"
   ]
  },
  {
   "attachments": {},
   "cell_type": "markdown",
   "metadata": {},
   "source": [
    "# Filling up null values in full dataframe "
   ]
  },
  {
   "cell_type": "code",
   "execution_count": 3,
   "metadata": {},
   "outputs": [],
   "source": [
    "ty_full_filled = ty_full.fillna(0)"
   ]
  },
  {
   "cell_type": "code",
   "execution_count": 71,
   "metadata": {},
   "outputs": [
    {
     "data": {
      "text/plain": [
       "Other               1239\n",
       "Outlier/Longtail     163\n",
       "Name: Target, dtype: int64"
      ]
     },
     "execution_count": 71,
     "metadata": {},
     "output_type": "execute_result"
    }
   ],
   "source": [
    "ty_full_filled['Target'].value_counts()"
   ]
  },
  {
   "attachments": {},
   "cell_type": "markdown",
   "metadata": {},
   "source": [
    "# Training on full dataset"
   ]
  },
  {
   "cell_type": "code",
   "execution_count": 18,
   "metadata": {},
   "outputs": [],
   "source": [
    "from sklearn.model_selection import train_test_split\n",
    "\n",
    "columns_to_drop = ['Target', 'Name', 'Distribution Type', 'Target_Encoded']\n",
    "X = ty_full_filled.drop(columns = columns_to_drop)\n",
    "y = ty_full_filled['Target_Encoded']\n",
    "\n",
    "X_train, X_test, y_train, y_test = train_test_split(X, y, test_size=0.2, random_state=42)"
   ]
  },
  {
   "cell_type": "code",
   "execution_count": 75,
   "metadata": {},
   "outputs": [],
   "source": [
    "from sklearn.ensemble import RandomForestClassifier\n",
    "\n",
    "model = RandomForestClassifier(class_weight={0: 1, 1: 10})\n",
    "\n",
    "model.fit(X_train, y_train)\n",
    "\n",
    "y_pred = model.predict(X_test)"
   ]
  },
  {
   "cell_type": "code",
   "execution_count": 76,
   "metadata": {},
   "outputs": [
    {
     "name": "stdout",
     "output_type": "stream",
     "text": [
      "Accuracy: 0.9857651245551602\n",
      "Classification Report:\n",
      "               precision    recall  f1-score   support\n",
      "\n",
      "           0       0.99      1.00      0.99       257\n",
      "           1       0.95      0.88      0.91        24\n",
      "\n",
      "    accuracy                           0.99       281\n",
      "   macro avg       0.97      0.94      0.95       281\n",
      "weighted avg       0.99      0.99      0.99       281\n",
      "\n"
     ]
    }
   ],
   "source": [
    "# Evaluate the model\n",
    "from sklearn.metrics import classification_report, accuracy_score\n",
    "\n",
    "print(\"Accuracy:\", accuracy_score(y_test, y_pred))\n",
    "print(\"Classification Report:\\n\", classification_report(y_test, y_pred))"
   ]
  },
  {
   "cell_type": "code",
   "execution_count": 25,
   "metadata": {},
   "outputs": [],
   "source": [
    "# for positive class (outlier/longtail)\n",
    "unrecalled_mask = (y_test == 1) & (y_pred != 1)\n",
    "unrecalled_points = X_test[unrecalled_mask]\n",
    "\n",
    "recalled_mask = (y_test == 1) & (y_pred == 1)\n",
    "recalled_points = X_test[recalled_mask]\n",
    "\n",
    "# for negative class (other distributions)\n",
    "negative_mask = (y_test == 0) & (y_pred == 0)\n",
    "negative_points = X_test[negative_mask]"
   ]
  },
  {
   "cell_type": "code",
   "execution_count": 26,
   "metadata": {},
   "outputs": [
    {
     "data": {
      "text/html": [
       "<div>\n",
       "<style scoped>\n",
       "    .dataframe tbody tr th:only-of-type {\n",
       "        vertical-align: middle;\n",
       "    }\n",
       "\n",
       "    .dataframe tbody tr th {\n",
       "        vertical-align: top;\n",
       "    }\n",
       "\n",
       "    .dataframe thead th {\n",
       "        text-align: right;\n",
       "    }\n",
       "</style>\n",
       "<table border=\"1\" class=\"dataframe\">\n",
       "  <thead>\n",
       "    <tr style=\"text-align: right;\">\n",
       "      <th></th>\n",
       "      <th>Name</th>\n",
       "      <th>Target</th>\n",
       "      <th>Target_Encoded</th>\n",
       "      <th>Distribution Type</th>\n",
       "      <th>Mean</th>\n",
       "      <th>Median</th>\n",
       "      <th>Std_Dev</th>\n",
       "      <th>IQR</th>\n",
       "      <th>Skewness</th>\n",
       "      <th>Kurtosis</th>\n",
       "      <th>...</th>\n",
       "      <th>Tail_Weight_Ratio</th>\n",
       "      <th>Excess_Kurtosis</th>\n",
       "      <th>P99</th>\n",
       "      <th>P1</th>\n",
       "      <th>Outliers_Zscore</th>\n",
       "      <th>Outliers_IQR</th>\n",
       "      <th>KS_Stat_norm</th>\n",
       "      <th>KS_P_value_norm</th>\n",
       "      <th>Shapiro_Stat</th>\n",
       "      <th>Shapiro_P_value</th>\n",
       "    </tr>\n",
       "  </thead>\n",
       "  <tbody>\n",
       "    <tr>\n",
       "      <th>29</th>\n",
       "      <td>a_openXv_SIG_x_x_500uA__VDDNV</td>\n",
       "      <td>Outlier/Longtail</td>\n",
       "      <td>1</td>\n",
       "      <td>outlier</td>\n",
       "      <td>-1.117207e-12</td>\n",
       "      <td>0.011715</td>\n",
       "      <td>1.000006</td>\n",
       "      <td>0.721904</td>\n",
       "      <td>33.198213</td>\n",
       "      <td>1369.68147</td>\n",
       "      <td>...</td>\n",
       "      <td>0.002519</td>\n",
       "      <td>1366.68147</td>\n",
       "      <td>0.766636</td>\n",
       "      <td>-0.927492</td>\n",
       "      <td>40</td>\n",
       "      <td>0</td>\n",
       "      <td>0.216918</td>\n",
       "      <td>0.0</td>\n",
       "      <td>0.254136</td>\n",
       "      <td>7.406007e-168</td>\n",
       "    </tr>\n",
       "    <tr>\n",
       "      <th>30</th>\n",
       "      <td>a_shortXv_SIG_x_x_500uA__VDDNV</td>\n",
       "      <td>Outlier/Longtail</td>\n",
       "      <td>1</td>\n",
       "      <td>outlier</td>\n",
       "      <td>-1.117207e-12</td>\n",
       "      <td>0.011715</td>\n",
       "      <td>1.000006</td>\n",
       "      <td>0.721904</td>\n",
       "      <td>33.198213</td>\n",
       "      <td>1369.68147</td>\n",
       "      <td>...</td>\n",
       "      <td>0.002519</td>\n",
       "      <td>1366.68147</td>\n",
       "      <td>0.766636</td>\n",
       "      <td>-0.927492</td>\n",
       "      <td>40</td>\n",
       "      <td>0</td>\n",
       "      <td>0.216918</td>\n",
       "      <td>0.0</td>\n",
       "      <td>0.254136</td>\n",
       "      <td>7.406007e-168</td>\n",
       "    </tr>\n",
       "    <tr>\n",
       "      <th>310</th>\n",
       "      <td>p_nvm_measureXxXPatarrayleakevenM0YvhsYvhsYyYY...</td>\n",
       "      <td>Outlier/Longtail</td>\n",
       "      <td>1</td>\n",
       "      <td>outlier</td>\n",
       "      <td>5.887441e-18</td>\n",
       "      <td>-0.016995</td>\n",
       "      <td>1.000006</td>\n",
       "      <td>0.000000</td>\n",
       "      <td>0.000000</td>\n",
       "      <td>0.00000</td>\n",
       "      <td>...</td>\n",
       "      <td>0.000289</td>\n",
       "      <td>-3.00000</td>\n",
       "      <td>-0.016995</td>\n",
       "      <td>-0.016995</td>\n",
       "      <td>23</td>\n",
       "      <td>79654</td>\n",
       "      <td>0.506491</td>\n",
       "      <td>0.0</td>\n",
       "      <td>0.003952</td>\n",
       "      <td>1.202701e-177</td>\n",
       "    </tr>\n",
       "  </tbody>\n",
       "</table>\n",
       "<p>3 rows × 29 columns</p>\n",
       "</div>"
      ],
      "text/plain": [
       "                                                  Name            Target  \\\n",
       "29                       a_openXv_SIG_x_x_500uA__VDDNV  Outlier/Longtail   \n",
       "30                      a_shortXv_SIG_x_x_500uA__VDDNV  Outlier/Longtail   \n",
       "310  p_nvm_measureXxXPatarrayleakevenM0YvhsYvhsYyYY...  Outlier/Longtail   \n",
       "\n",
       "     Target_Encoded Distribution Type          Mean    Median   Std_Dev  \\\n",
       "29                1           outlier -1.117207e-12  0.011715  1.000006   \n",
       "30                1           outlier -1.117207e-12  0.011715  1.000006   \n",
       "310               1           outlier  5.887441e-18 -0.016995  1.000006   \n",
       "\n",
       "          IQR   Skewness    Kurtosis  ...  Tail_Weight_Ratio  Excess_Kurtosis  \\\n",
       "29   0.721904  33.198213  1369.68147  ...           0.002519       1366.68147   \n",
       "30   0.721904  33.198213  1369.68147  ...           0.002519       1366.68147   \n",
       "310  0.000000   0.000000     0.00000  ...           0.000289         -3.00000   \n",
       "\n",
       "          P99        P1  Outliers_Zscore  Outliers_IQR  KS_Stat_norm  \\\n",
       "29   0.766636 -0.927492               40             0      0.216918   \n",
       "30   0.766636 -0.927492               40             0      0.216918   \n",
       "310 -0.016995 -0.016995               23         79654      0.506491   \n",
       "\n",
       "     KS_P_value_norm  Shapiro_Stat  Shapiro_P_value  \n",
       "29               0.0      0.254136    7.406007e-168  \n",
       "30               0.0      0.254136    7.406007e-168  \n",
       "310              0.0      0.003952    1.202701e-177  \n",
       "\n",
       "[3 rows x 29 columns]"
      ]
     },
     "execution_count": 26,
     "metadata": {},
     "output_type": "execute_result"
    }
   ],
   "source": [
    "ty_full_filled.iloc[unrecalled_points.index]"
   ]
  },
  {
   "cell_type": "code",
   "execution_count": 65,
   "metadata": {},
   "outputs": [
    {
     "data": {
      "text/html": [
       "<div>\n",
       "<style scoped>\n",
       "    .dataframe tbody tr th:only-of-type {\n",
       "        vertical-align: middle;\n",
       "    }\n",
       "\n",
       "    .dataframe tbody tr th {\n",
       "        vertical-align: top;\n",
       "    }\n",
       "\n",
       "    .dataframe thead th {\n",
       "        text-align: right;\n",
       "    }\n",
       "</style>\n",
       "<table border=\"1\" class=\"dataframe\">\n",
       "  <thead>\n",
       "    <tr style=\"text-align: right;\">\n",
       "      <th></th>\n",
       "      <th>Mean</th>\n",
       "      <th>Median</th>\n",
       "      <th>Std_Dev</th>\n",
       "      <th>IQR</th>\n",
       "      <th>Skewness</th>\n",
       "      <th>Kurtosis</th>\n",
       "      <th>Min</th>\n",
       "      <th>Max</th>\n",
       "      <th>Range</th>\n",
       "      <th>Upper_Tail</th>\n",
       "      <th>...</th>\n",
       "      <th>Tail_Weight_Ratio</th>\n",
       "      <th>Excess_Kurtosis</th>\n",
       "      <th>P99</th>\n",
       "      <th>P1</th>\n",
       "      <th>Outliers_Zscore</th>\n",
       "      <th>Outliers_IQR</th>\n",
       "      <th>KS_Stat_norm</th>\n",
       "      <th>KS_P_value_norm</th>\n",
       "      <th>Shapiro_Stat</th>\n",
       "      <th>Shapiro_P_value</th>\n",
       "    </tr>\n",
       "  </thead>\n",
       "  <tbody>\n",
       "    <tr>\n",
       "      <th>count</th>\n",
       "      <td>3.000000e+00</td>\n",
       "      <td>3.000000</td>\n",
       "      <td>3.000000e+00</td>\n",
       "      <td>3.000000</td>\n",
       "      <td>3.000000</td>\n",
       "      <td>3.000000</td>\n",
       "      <td>3.000000</td>\n",
       "      <td>3.000000</td>\n",
       "      <td>3.000000</td>\n",
       "      <td>3.000000</td>\n",
       "      <td>...</td>\n",
       "      <td>3.000000</td>\n",
       "      <td>3.000000</td>\n",
       "      <td>3.000000</td>\n",
       "      <td>3.000000</td>\n",
       "      <td>3.000000</td>\n",
       "      <td>3.0</td>\n",
       "      <td>3.000000</td>\n",
       "      <td>3.0</td>\n",
       "      <td>3.000000</td>\n",
       "      <td>3.000000e+00</td>\n",
       "    </tr>\n",
       "    <tr>\n",
       "      <th>mean</th>\n",
       "      <td>1.439604e-13</td>\n",
       "      <td>-0.018384</td>\n",
       "      <td>1.000006e+00</td>\n",
       "      <td>0.085923</td>\n",
       "      <td>58.605086</td>\n",
       "      <td>9094.528465</td>\n",
       "      <td>-19.530782</td>\n",
       "      <td>83.256787</td>\n",
       "      <td>102.787569</td>\n",
       "      <td>0.020481</td>\n",
       "      <td>...</td>\n",
       "      <td>0.001205</td>\n",
       "      <td>9091.528465</td>\n",
       "      <td>0.087630</td>\n",
       "      <td>-0.122912</td>\n",
       "      <td>58.333333</td>\n",
       "      <td>79654.0</td>\n",
       "      <td>0.462241</td>\n",
       "      <td>0.0</td>\n",
       "      <td>0.030145</td>\n",
       "      <td>3.589890e-175</td>\n",
       "    </tr>\n",
       "    <tr>\n",
       "      <th>std</th>\n",
       "      <td>2.493438e-13</td>\n",
       "      <td>0.013217</td>\n",
       "      <td>2.282190e-13</td>\n",
       "      <td>0.148824</td>\n",
       "      <td>90.582904</td>\n",
       "      <td>15118.201149</td>\n",
       "      <td>33.808598</td>\n",
       "      <td>71.013634</td>\n",
       "      <td>53.585998</td>\n",
       "      <td>0.035475</td>\n",
       "      <td>...</td>\n",
       "      <td>0.001566</td>\n",
       "      <td>15118.201149</td>\n",
       "      <td>0.171570</td>\n",
       "      <td>0.193251</td>\n",
       "      <td>79.952069</td>\n",
       "      <td>0.0</td>\n",
       "      <td>0.073018</td>\n",
       "      <td>0.0</td>\n",
       "      <td>0.048361</td>\n",
       "      <td>0.000000e+00</td>\n",
       "    </tr>\n",
       "    <tr>\n",
       "      <th>min</th>\n",
       "      <td>1.159647e-18</td>\n",
       "      <td>-0.032395</td>\n",
       "      <td>1.000006e+00</td>\n",
       "      <td>0.000000</td>\n",
       "      <td>0.000000</td>\n",
       "      <td>0.000000</td>\n",
       "      <td>-58.569588</td>\n",
       "      <td>26.664217</td>\n",
       "      <td>60.180035</td>\n",
       "      <td>0.000000</td>\n",
       "      <td>...</td>\n",
       "      <td>0.000276</td>\n",
       "      <td>-3.000000</td>\n",
       "      <td>-0.016621</td>\n",
       "      <td>-0.345977</td>\n",
       "      <td>3.000000</td>\n",
       "      <td>79654.0</td>\n",
       "      <td>0.377958</td>\n",
       "      <td>0.0</td>\n",
       "      <td>0.000672</td>\n",
       "      <td>9.263140e-178</td>\n",
       "    </tr>\n",
       "    <tr>\n",
       "      <th>25%</th>\n",
       "      <td>1.650267e-18</td>\n",
       "      <td>-0.024508</td>\n",
       "      <td>1.000006e+00</td>\n",
       "      <td>0.000000</td>\n",
       "      <td>6.439333</td>\n",
       "      <td>368.626012</td>\n",
       "      <td>-29.293105</td>\n",
       "      <td>43.413816</td>\n",
       "      <td>72.706920</td>\n",
       "      <td>0.000000</td>\n",
       "      <td>...</td>\n",
       "      <td>0.000301</td>\n",
       "      <td>365.626012</td>\n",
       "      <td>-0.011379</td>\n",
       "      <td>-0.181299</td>\n",
       "      <td>12.500000</td>\n",
       "      <td>79654.0</td>\n",
       "      <td>0.440184</td>\n",
       "      <td>0.0</td>\n",
       "      <td>0.002238</td>\n",
       "      <td>1.057435e-177</td>\n",
       "    </tr>\n",
       "    <tr>\n",
       "      <th>50%</th>\n",
       "      <td>2.140888e-18</td>\n",
       "      <td>-0.016621</td>\n",
       "      <td>1.000006e+00</td>\n",
       "      <td>0.000000</td>\n",
       "      <td>12.878666</td>\n",
       "      <td>737.252024</td>\n",
       "      <td>-0.016621</td>\n",
       "      <td>60.163414</td>\n",
       "      <td>85.233805</td>\n",
       "      <td>0.000000</td>\n",
       "      <td>...</td>\n",
       "      <td>0.000326</td>\n",
       "      <td>734.252024</td>\n",
       "      <td>-0.006137</td>\n",
       "      <td>-0.016621</td>\n",
       "      <td>22.000000</td>\n",
       "      <td>79654.0</td>\n",
       "      <td>0.502411</td>\n",
       "      <td>0.0</td>\n",
       "      <td>0.003803</td>\n",
       "      <td>1.188556e-177</td>\n",
       "    </tr>\n",
       "    <tr>\n",
       "      <th>75%</th>\n",
       "      <td>2.159400e-13</td>\n",
       "      <td>-0.011379</td>\n",
       "      <td>1.000006e+00</td>\n",
       "      <td>0.128885</td>\n",
       "      <td>87.907629</td>\n",
       "      <td>13641.792698</td>\n",
       "      <td>-0.011379</td>\n",
       "      <td>111.553072</td>\n",
       "      <td>124.091336</td>\n",
       "      <td>0.030722</td>\n",
       "      <td>...</td>\n",
       "      <td>0.001670</td>\n",
       "      <td>13638.792698</td>\n",
       "      <td>0.139756</td>\n",
       "      <td>-0.011379</td>\n",
       "      <td>86.000000</td>\n",
       "      <td>79654.0</td>\n",
       "      <td>0.504383</td>\n",
       "      <td>0.0</td>\n",
       "      <td>0.044881</td>\n",
       "      <td>5.380203e-175</td>\n",
       "    </tr>\n",
       "    <tr>\n",
       "      <th>max</th>\n",
       "      <td>4.318779e-13</td>\n",
       "      <td>-0.006137</td>\n",
       "      <td>1.000006e+00</td>\n",
       "      <td>0.257770</td>\n",
       "      <td>162.936593</td>\n",
       "      <td>26546.333371</td>\n",
       "      <td>-0.006137</td>\n",
       "      <td>162.942730</td>\n",
       "      <td>162.948867</td>\n",
       "      <td>0.061444</td>\n",
       "      <td>...</td>\n",
       "      <td>0.003013</td>\n",
       "      <td>26543.333371</td>\n",
       "      <td>0.285650</td>\n",
       "      <td>-0.006137</td>\n",
       "      <td>150.000000</td>\n",
       "      <td>79654.0</td>\n",
       "      <td>0.506354</td>\n",
       "      <td>0.0</td>\n",
       "      <td>0.085958</td>\n",
       "      <td>1.074852e-174</td>\n",
       "    </tr>\n",
       "  </tbody>\n",
       "</table>\n",
       "<p>8 rows × 25 columns</p>\n",
       "</div>"
      ],
      "text/plain": [
       "               Mean    Median       Std_Dev       IQR    Skewness  \\\n",
       "count  3.000000e+00  3.000000  3.000000e+00  3.000000    3.000000   \n",
       "mean   1.439604e-13 -0.018384  1.000006e+00  0.085923   58.605086   \n",
       "std    2.493438e-13  0.013217  2.282190e-13  0.148824   90.582904   \n",
       "min    1.159647e-18 -0.032395  1.000006e+00  0.000000    0.000000   \n",
       "25%    1.650267e-18 -0.024508  1.000006e+00  0.000000    6.439333   \n",
       "50%    2.140888e-18 -0.016621  1.000006e+00  0.000000   12.878666   \n",
       "75%    2.159400e-13 -0.011379  1.000006e+00  0.128885   87.907629   \n",
       "max    4.318779e-13 -0.006137  1.000006e+00  0.257770  162.936593   \n",
       "\n",
       "           Kurtosis        Min         Max       Range  Upper_Tail  ...  \\\n",
       "count      3.000000   3.000000    3.000000    3.000000    3.000000  ...   \n",
       "mean    9094.528465 -19.530782   83.256787  102.787569    0.020481  ...   \n",
       "std    15118.201149  33.808598   71.013634   53.585998    0.035475  ...   \n",
       "min        0.000000 -58.569588   26.664217   60.180035    0.000000  ...   \n",
       "25%      368.626012 -29.293105   43.413816   72.706920    0.000000  ...   \n",
       "50%      737.252024  -0.016621   60.163414   85.233805    0.000000  ...   \n",
       "75%    13641.792698  -0.011379  111.553072  124.091336    0.030722  ...   \n",
       "max    26546.333371  -0.006137  162.942730  162.948867    0.061444  ...   \n",
       "\n",
       "       Tail_Weight_Ratio  Excess_Kurtosis       P99        P1  \\\n",
       "count           3.000000         3.000000  3.000000  3.000000   \n",
       "mean            0.001205      9091.528465  0.087630 -0.122912   \n",
       "std             0.001566     15118.201149  0.171570  0.193251   \n",
       "min             0.000276        -3.000000 -0.016621 -0.345977   \n",
       "25%             0.000301       365.626012 -0.011379 -0.181299   \n",
       "50%             0.000326       734.252024 -0.006137 -0.016621   \n",
       "75%             0.001670     13638.792698  0.139756 -0.011379   \n",
       "max             0.003013     26543.333371  0.285650 -0.006137   \n",
       "\n",
       "       Outliers_Zscore  Outliers_IQR  KS_Stat_norm  KS_P_value_norm  \\\n",
       "count         3.000000           3.0      3.000000              3.0   \n",
       "mean         58.333333       79654.0      0.462241              0.0   \n",
       "std          79.952069           0.0      0.073018              0.0   \n",
       "min           3.000000       79654.0      0.377958              0.0   \n",
       "25%          12.500000       79654.0      0.440184              0.0   \n",
       "50%          22.000000       79654.0      0.502411              0.0   \n",
       "75%          86.000000       79654.0      0.504383              0.0   \n",
       "max         150.000000       79654.0      0.506354              0.0   \n",
       "\n",
       "       Shapiro_Stat  Shapiro_P_value  \n",
       "count      3.000000     3.000000e+00  \n",
       "mean       0.030145    3.589890e-175  \n",
       "std        0.048361     0.000000e+00  \n",
       "min        0.000672    9.263140e-178  \n",
       "25%        0.002238    1.057435e-177  \n",
       "50%        0.003803    1.188556e-177  \n",
       "75%        0.044881    5.380203e-175  \n",
       "max        0.085958    1.074852e-174  \n",
       "\n",
       "[8 rows x 25 columns]"
      ]
     },
     "execution_count": 65,
     "metadata": {},
     "output_type": "execute_result"
    }
   ],
   "source": [
    "unrecalled_points.describe()"
   ]
  },
  {
   "cell_type": "code",
   "execution_count": null,
   "metadata": {},
   "outputs": [],
   "source": [
    "import pandas as pd\n",
    "import matplotlib as plt\n",
    "\n",
    "importances = model.feature_importances_\n",
    "\n",
    "importance_df = pd.DataFrame({\n",
    "    'Feature': X.columns,\n",
    "    'Importance': importances\n",
    "}).sort_values(by='Importance', ascending=True)\n",
    "\n",
    "import matplotlib.pyplot as plt\n",
    "plt.figure(figsize=(10, 6))\n",
    "plt.barh(importance_df['Feature'], importance_df['Importance'])\n",
    "plt.xlabel('Importance')\n",
    "plt.title('Feature Importance from Random Forest')\n",
    "plt.show()"
   ]
  },
  {
   "attachments": {},
   "cell_type": "markdown",
   "metadata": {},
   "source": [
    "# Balancing dataset\n",
    "Recall for positive class improved to 100% "
   ]
  },
  {
   "cell_type": "code",
   "execution_count": 57,
   "metadata": {},
   "outputs": [],
   "source": [
    "from imblearn.over_sampling import SMOTE\n",
    "\n",
    "smote = SMOTE(random_state=42)\n",
    "X_train_smote, y_train_smote = smote.fit_resample(X_train, y_train)\n",
    "\n",
    "model_smote = RandomForestClassifier() #class_weight={0: 1, 1: 10}\n",
    "model_smote.fit(X_train_smote, y_train_smote)\n",
    "\n",
    "y_pred_smote = model_smote.predict(X_test)"
   ]
  },
  {
   "cell_type": "code",
   "execution_count": 58,
   "metadata": {},
   "outputs": [
    {
     "name": "stdout",
     "output_type": "stream",
     "text": [
      "Accuracy: 0.9715302491103203\n",
      "Classification Report:\n",
      "               precision    recall  f1-score   support\n",
      "\n",
      "           0       1.00      0.97      0.98       257\n",
      "           1       0.75      1.00      0.86        24\n",
      "\n",
      "    accuracy                           0.97       281\n",
      "   macro avg       0.88      0.98      0.92       281\n",
      "weighted avg       0.98      0.97      0.97       281\n",
      "\n"
     ]
    }
   ],
   "source": [
    "# Evaluate the model\n",
    "from sklearn.metrics import classification_report, accuracy_score\n",
    "\n",
    "print(\"Accuracy:\", accuracy_score(y_test, y_pred_smote))\n",
    "print(\"Classification Report:\\n\", classification_report(y_test, y_pred_smote))"
   ]
  },
  {
   "cell_type": "code",
   "execution_count": 59,
   "metadata": {},
   "outputs": [
    {
     "data": {
      "image/png": "[encoded data removed]",
      "text/plain": [
       "<Figure size 1000x600 with 1 Axes>"
      ]
     },
     "metadata": {},
     "output_type": "display_data"
    }
   ],
   "source": [
    "import pandas as pd\n",
    "import matplotlib as plt\n",
    "\n",
    "importances_smote = model_smote.feature_importances_\n",
    "\n",
    "importance_df_smote = pd.DataFrame({\n",
    "    'Feature': X_train_smote.columns,\n",
    "    'Importance': importances_smote\n",
    "}).sort_values(by='Importance', ascending=True)\n",
    "\n",
    "import matplotlib.pyplot as plt\n",
    "plt.figure(figsize=(10, 6))\n",
    "plt.barh(importance_df_smote['Feature'], importance_df_smote['Importance'])\n",
    "plt.xlabel('Importance')\n",
    "plt.title('Feature Importance from Random Forest')\n",
    "plt.show()"
   ]
  },
  {
   "attachments": {},
   "cell_type": "markdown",
   "metadata": {},
   "source": [
    "# Predicting on YK data using this model"
   ]
  },
  {
   "cell_type": "code",
   "execution_count": 65,
   "metadata": {},
   "outputs": [],
   "source": [
    "import pickle\n",
    "\n",
    "with open('yk_dataframes.pkl', 'rb') as file:\n",
    "    data = pickle.load(file)\n",
    "\n",
    "yk_full = data['yk_full']\n",
    "yk_dropped = data['yk_dropped']"
   ]
  },
  {
   "cell_type": "code",
   "execution_count": 66,
   "metadata": {},
   "outputs": [],
   "source": [
    "yk_full_filled = yk_full.fillna(0)"
   ]
  },
  {
   "cell_type": "code",
   "execution_count": 70,
   "metadata": {},
   "outputs": [],
   "source": [
    "columns_to_drop = ['Target', 'Name', 'Distribution Type', 'Target_Encoded']\n",
    "X_yk = yk_full_filled.drop(columns = columns_to_drop)\n",
    "y_yk = yk_full_filled['Target_Encoded']"
   ]
  },
  {
   "cell_type": "code",
   "execution_count": 91,
   "metadata": {},
   "outputs": [],
   "source": [
    "y_pred_yk = model_smote.predict(X_yk)"
   ]
  },
  {
   "cell_type": "code",
   "execution_count": 92,
   "metadata": {},
   "outputs": [
    {
     "name": "stdout",
     "output_type": "stream",
     "text": [
      "Accuracy: 0.5209756097560976\n",
      "Classification Report:\n",
      "               precision    recall  f1-score   support\n",
      "\n",
      "           0       0.50      0.99      0.66       490\n",
      "           1       0.94      0.09      0.16       535\n",
      "\n",
      "    accuracy                           0.52      1025\n",
      "   macro avg       0.72      0.54      0.41      1025\n",
      "weighted avg       0.73      0.52      0.40      1025\n",
      "\n"
     ]
    }
   ],
   "source": [
    "# Evaluate the model\n",
    "from sklearn.metrics import classification_report, accuracy_score\n",
    "\n",
    "print(\"Accuracy:\", accuracy_score(y_yk, y_pred_yk))\n",
    "print(\"Classification Report:\\n\", classification_report(y_yk, y_pred_yk))"
   ]
  },
  {
   "attachments": {},
   "cell_type": "markdown",
   "metadata": {},
   "source": [
    "# Feature crossing and dropping"
   ]
  },
  {
   "cell_type": "code",
   "execution_count": 37,
   "metadata": {},
   "outputs": [],
   "source": [
    "def feature_crossing(train, test):\n",
    "    dfs = [train.copy(), test.copy()]\n",
    "    for df in dfs:\n",
    "        df['skewness_kurtosis'] = df['Skewness'] * df['Kurtosis']\n",
    "        df['skewness_range'] = df['Skewness'] * df['Range']\n",
    "        df['kurtosis_range'] = df['Kurtosis'] * df['Range']\n",
    "        df['iqr_skewness'] = df['IQR'] * df['Skewness']\n",
    "        df['mean_kurtosis'] = df['Mean'] * df['Kurtosis']\n",
    "        #df['std_dev_per_ratio']= df['Std_Dev'] * df['Percentile_Ratio_95_5']\n",
    "    return dfs"
   ]
  },
  {
   "cell_type": "code",
   "execution_count": 38,
   "metadata": {},
   "outputs": [],
   "source": [
    "result = feature_crossing(X_train_smote, X_test)\n",
    "X_train_crossed = result[0]\n",
    "X_test_crossed = result[1]"
   ]
  },
  {
   "cell_type": "code",
   "execution_count": 40,
   "metadata": {},
   "outputs": [],
   "source": [
    "from sklearn.ensemble import RandomForestClassifier\n",
    "\n",
    "model_crossed = RandomForestClassifier()\n",
    "\n",
    "model_crossed.fit(X_train_crossed, y_train_smote)\n",
    "\n",
    "y_pred_crossed = model_crossed.predict(X_test_crossed)"
   ]
  },
  {
   "cell_type": "code",
   "execution_count": 41,
   "metadata": {},
   "outputs": [
    {
     "name": "stdout",
     "output_type": "stream",
     "text": [
      "Accuracy: 0.9679715302491103\n",
      "Classification Report:\n",
      "               precision    recall  f1-score   support\n",
      "\n",
      "           0       0.99      0.97      0.98       257\n",
      "           1       0.76      0.92      0.83        24\n",
      "\n",
      "    accuracy                           0.97       281\n",
      "   macro avg       0.88      0.94      0.91       281\n",
      "weighted avg       0.97      0.97      0.97       281\n",
      "\n"
     ]
    }
   ],
   "source": [
    "# Evaluate the model\n",
    "from sklearn.metrics import classification_report, accuracy_score\n",
    "\n",
    "print(\"Accuracy:\", accuracy_score(y_test, y_pred_crossed))\n",
    "print(\"Classification Report:\\n\", classification_report(y_test, y_pred_crossed))"
   ]
  },
  {
   "cell_type": "code",
   "execution_count": 42,
   "metadata": {},
   "outputs": [
    {
     "data": {
      "image/png": "[encoded data removed]",
      "text/plain": [
       "<Figure size 1000x600 with 1 Axes>"
      ]
     },
     "metadata": {},
     "output_type": "display_data"
    }
   ],
   "source": [
    "import pandas as pd\n",
    "import matplotlib as plt\n",
    "\n",
    "importances_crossed = model_crossed.feature_importances_\n",
    "\n",
    "importance_df_crossed = pd.DataFrame({\n",
    "    'Feature': X_train_crossed.columns,\n",
    "    'Importance': importances_crossed\n",
    "}).sort_values(by='Importance', ascending=True)\n",
    "\n",
    "import matplotlib.pyplot as plt\n",
    "plt.figure(figsize=(10, 6))\n",
    "plt.barh(importance_df_crossed['Feature'], importance_df_crossed['Importance'])\n",
    "plt.xlabel('Importance')\n",
    "plt.title('Feature Importance from Random Forest')\n",
    "plt.show()"
   ]
  },
  {
   "cell_type": "code",
   "execution_count": 43,
   "metadata": {},
   "outputs": [
    {
     "data": {
      "text/plain": [
       "['Mean', 'Shapiro_P_value', 'KS_P_value_norm', 'mean_kurtosis', 'Std_Dev']"
      ]
     },
     "execution_count": 43,
     "metadata": {},
     "output_type": "execute_result"
    }
   ],
   "source": [
    "# least importance features\n",
    "to_drop = list(importance_df_crossed.sort_values(by='Importance', ascending=True)[:5]['Feature'])\n",
    "to_drop"
   ]
  },
  {
   "cell_type": "code",
   "execution_count": 44,
   "metadata": {},
   "outputs": [],
   "source": [
    "def feature_dropping(train, test, variables: list):\n",
    "    train_dropped = train.drop(variables, axis=1)\n",
    "    test_dropped = test.drop(variables, axis=1)\n",
    "    return train_dropped, test_dropped"
   ]
  },
  {
   "cell_type": "code",
   "execution_count": 45,
   "metadata": {},
   "outputs": [],
   "source": [
    "dropped = feature_dropping(X_train_crossed, X_test_crossed, to_drop)\n",
    "\n",
    "X_train2 = dropped[0]\n",
    "X_test2 = dropped[1]"
   ]
  },
  {
   "cell_type": "code",
   "execution_count": 47,
   "metadata": {},
   "outputs": [],
   "source": [
    "from sklearn.ensemble import RandomForestClassifier\n",
    "\n",
    "model_final = RandomForestClassifier()\n",
    "\n",
    "model_final.fit(X_train2, y_train_smote)\n",
    "\n",
    "y_pred_final = model_final.predict(X_test2)"
   ]
  },
  {
   "cell_type": "code",
   "execution_count": 48,
   "metadata": {},
   "outputs": [
    {
     "name": "stdout",
     "output_type": "stream",
     "text": [
      "Accuracy: 0.9644128113879004\n",
      "Classification Report:\n",
      "               precision    recall  f1-score   support\n",
      "\n",
      "           0       0.99      0.97      0.98       257\n",
      "           1       0.73      0.92      0.81        24\n",
      "\n",
      "    accuracy                           0.96       281\n",
      "   macro avg       0.86      0.94      0.90       281\n",
      "weighted avg       0.97      0.96      0.97       281\n",
      "\n"
     ]
    }
   ],
   "source": [
    "# Evaluate the model\n",
    "from sklearn.metrics import classification_report, accuracy_score\n",
    "\n",
    "print(\"Accuracy:\", accuracy_score(y_test, y_pred_final))\n",
    "print(\"Classification Report:\\n\", classification_report(y_test, y_pred_final))"
   ]
  },
  {
   "attachments": {},
   "cell_type": "markdown",
   "metadata": {},
   "source": [
    "# Training on dropped data"
   ]
  },
  {
   "cell_type": "code",
   "execution_count": 17,
   "metadata": {},
   "outputs": [],
   "source": [
    "from sklearn.model_selection import train_test_split\n",
    "\n",
    "columns_to_drop = ['Target', 'Name', 'Distribution Type', 'Target_Encoded']\n",
    "X = ty_dropped.drop(columns = columns_to_drop)\n",
    "y = ty_dropped['Target_Encoded']\n",
    "\n",
    "X_train, X_test, y_train, y_test = train_test_split(X, y, test_size=0.2, random_state=42)"
   ]
  },
  {
   "cell_type": "code",
   "execution_count": 18,
   "metadata": {},
   "outputs": [],
   "source": [
    "from sklearn.ensemble import RandomForestClassifier\n",
    "\n",
    "model = RandomForestClassifier()\n",
    "\n",
    "model.fit(X_train, y_train)\n",
    "\n",
    "y_pred = model.predict(X_test)"
   ]
  },
  {
   "cell_type": "code",
   "execution_count": 19,
   "metadata": {},
   "outputs": [
    {
     "name": "stdout",
     "output_type": "stream",
     "text": [
      "Accuracy: 0.9605263157894737\n",
      "Classification Report:\n",
      "               precision    recall  f1-score   support\n",
      "\n",
      "           0       0.98      0.97      0.98       197\n",
      "           1       0.82      0.90      0.86        31\n",
      "\n",
      "    accuracy                           0.96       228\n",
      "   macro avg       0.90      0.94      0.92       228\n",
      "weighted avg       0.96      0.96      0.96       228\n",
      "\n"
     ]
    }
   ],
   "source": [
    "# Evaluate the model\n",
    "from sklearn.metrics import classification_report, accuracy_score\n",
    "\n",
    "print(\"Accuracy:\", accuracy_score(y_test, y_pred))\n",
    "print(\"Classification Report:\\n\", classification_report(y_test, y_pred))"
   ]
  },
  {
   "cell_type": "markdown",
   "metadata": {},
   "source": [
    "# Using model trained on YK data to predict distributions of TY data"
   ]
  },
  {
   "cell_type": "code",
   "execution_count": 86,
   "metadata": {},
   "outputs": [],
   "source": [
    "with open('yk_model.pkl', 'rb') as file:\n",
    "    yk_model = pickle.load(file)"
   ]
  },
  {
   "cell_type": "code",
   "execution_count": 89,
   "metadata": {},
   "outputs": [],
   "source": [
    "columns_to_drop = ['Target', 'Name', 'Distribution Type', 'Target_Encoded']\n",
    "\n",
    "X_ty = ty_full_filled.drop(columns = columns_to_drop)\n",
    "y_ty = ty_full_filled['Target_Encoded']"
   ]
  },
  {
   "cell_type": "code",
   "execution_count": 90,
   "metadata": {},
   "outputs": [
    {
     "name": "stdout",
     "output_type": "stream",
     "text": [
      "Accuracy: 0.5998573466476462\n",
      "Classification Report:\n",
      "               precision    recall  f1-score   support\n",
      "\n",
      "           0       0.95      0.57      0.72      1239\n",
      "           1       0.20      0.79      0.32       163\n",
      "\n",
      "    accuracy                           0.60      1402\n",
      "   macro avg       0.58      0.68      0.52      1402\n",
      "weighted avg       0.87      0.60      0.67      1402\n",
      "\n"
     ]
    }
   ],
   "source": [
    "yk_pred = yk_model.predict(X_ty)\n",
    "\n",
    "print(\"Accuracy:\", accuracy_score(y_ty, yk_pred))\n",
    "print(\"Classification Report:\\n\", classification_report(y_ty, yk_pred))"
   ]
  }
 ],
 "metadata": {
  "kernelspec": {
   "display_name": "Python 3",
   "language": "python",
   "name": "python3"
  },
  "language_info": {
   "codemirror_mode": {
    "name": "ipython",
    "version": 3
   },
   "file_extension": ".py",
   "mimetype": "text/x-python",
   "name": "python",
   "nbconvert_exporter": "python",
   "pygments_lexer": "ipython3",
   "version": "3.9.18"
  },
  "orig_nbformat": 4,
  "vscode": {
   "interpreter": {
    "hash": "a665b5d41d17b532ea9890333293a1b812fa0b73c9c25c950b3cedf1bebd0438"
   }
  }
 },
 "nbformat": 4,
 "nbformat_minor": 2
}
