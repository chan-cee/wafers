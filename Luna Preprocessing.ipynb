{
 "cells": [
  {
   "cell_type": "code",
   "execution_count": 4,
   "metadata": {},
   "outputs": [],
   "source": [
    "import pandas as pd\n",
    "import numpy as np"
   ]
  },
  {
   "cell_type": "code",
   "execution_count": 5,
   "metadata": {},
   "outputs": [],
   "source": [
    "YK_label = pd.read_excel('../data/YK_LABEL.xlsx')\n",
    "YK_data = pd.read_csv('../data/YK_training_ULT.csv')"
   ]
  },
  {
   "cell_type": "code",
   "execution_count": 6,
   "metadata": {},
   "outputs": [
    {
     "name": "stdout",
     "output_type": "stream",
     "text": [
      "(69577, 1076)\n"
     ]
    }
   ],
   "source": [
    "#Looking at the shape of each dataset\n",
    "print(YK_data.shape)"
   ]
  },
  {
   "cell_type": "code",
   "execution_count": 7,
   "metadata": {},
   "outputs": [],
   "source": [
    "#Function to drop columns (tests) in the raw data file which are NOT tests (i.e metadata like start time, lot number etc)\n",
    "def test_only(datafile,labelfile):\n",
    "    keys = list(labelfile['Name'])\n",
    "    df = datafile[keys]\n",
    "    return df"
   ]
  },
  {
   "cell_type": "code",
   "execution_count": 8,
   "metadata": {},
   "outputs": [
    {
     "name": "stdout",
     "output_type": "stream",
     "text": [
      "(69577, 1039)\n",
      "   temperature  Device_Test_Time  \\\n",
      "0         25.0           22332.0   \n",
      "1         25.0           11976.0   \n",
      "2         25.0           11920.0   \n",
      "3         25.0            9224.0   \n",
      "4         25.0           11936.0   \n",
      "\n",
      "   otp_read_line0_stdf_:ULT_Chksum@ULT_Chksum[1]  Part_Id  \\\n",
      "0                                            NaN      1.0   \n",
      "1                                            NaN      2.0   \n",
      "2                                            NaN      3.0   \n",
      "3                                            NaN      4.0   \n",
      "4                                            NaN      5.0   \n",
      "\n",
      "   otp_read_blank:Functional[1]  g2bist_efuse_blank_read_f_:Functional[1]  \\\n",
      "0                           NaN                                       NaN   \n",
      "1                           NaN                                       NaN   \n",
      "2                           NaN                                       NaN   \n",
      "3                           NaN                                       NaN   \n",
      "4                           NaN                                       NaN   \n",
      "\n",
      "   tdf_50k_1_f_:Functional[1]  tdf_50k_2_f_:Functional[1]  \\\n",
      "0                         NaN                         NaN   \n",
      "1                         NaN                         NaN   \n",
      "2                         NaN                         NaN   \n",
      "3                         NaN                         NaN   \n",
      "4                         NaN                         NaN   \n",
      "\n",
      "   stf_50k_1_f_:Functional[1]  write_dro_sidd:Functional[1]  ...  \\\n",
      "0                         NaN                          -1.0  ...   \n",
      "1                         NaN                          -1.0  ...   \n",
      "2                         NaN                          -1.0  ...   \n",
      "3                         NaN                          -1.0  ...   \n",
      "4                         NaN                          -1.0  ...   \n",
      "\n",
      "   tdf_90k_18_p_:Functional[1]  tdf_90k_1_p_:Functional[1]  \\\n",
      "0                         -1.0                        -1.0   \n",
      "1                         -1.0                        -1.0   \n",
      "2                         -1.0                        -1.0   \n",
      "3                         -1.0                        -1.0   \n",
      "4                         -1.0                        -1.0   \n",
      "\n",
      "   tdf_90k_2_p_:Functional[1]  tdf_90k_3_p_:Functional[1]  \\\n",
      "0                        -1.0                        -1.0   \n",
      "1                        -1.0                        -1.0   \n",
      "2                        -1.0                        -1.0   \n",
      "3                        -1.0                        -1.0   \n",
      "4                        -1.0                        -1.0   \n",
      "\n",
      "   tdf_90k_4_p_:Functional[1]  tdf_90k_5_p_:Functional[1]  \\\n",
      "0                        -1.0                        -1.0   \n",
      "1                        -1.0                        -1.0   \n",
      "2                        -1.0                        -1.0   \n",
      "3                        -1.0                        -1.0   \n",
      "4                        -1.0                        -1.0   \n",
      "\n",
      "   tdf_90k_6_p_:Functional[1]  tdf_90k_7_p_:Functional[1]  \\\n",
      "0                        -1.0                        -1.0   \n",
      "1                        -1.0                        -1.0   \n",
      "2                        -1.0                        -1.0   \n",
      "3                        -1.0                        -1.0   \n",
      "4                        -1.0                        -1.0   \n",
      "\n",
      "   tdf_90k_8_p_:Functional[1]  tdf_90k_9_p_:Functional[1]  \n",
      "0                        -1.0                        -1.0  \n",
      "1                        -1.0                        -1.0  \n",
      "2                        -1.0                        -1.0  \n",
      "3                        -1.0                        -1.0  \n",
      "4                        -1.0                        -1.0  \n",
      "\n",
      "[5 rows x 1039 columns]\n"
     ]
    }
   ],
   "source": [
    "#Applying the functions to file \n",
    "YK_dropped = test_only(YK_data,YK_label)\n",
    "#Checking the shape and how the data looks like\n",
    "print(YK_dropped.shape)\n",
    "print(YK_dropped.head())"
   ]
  },
  {
   "cell_type": "markdown",
   "metadata": {},
   "source": [
    "## Identifying the columns with less than 50,000 data points\n",
    "For these columns, there are 2 ways of dealing with them - (i) to drop these columns completely and (ii) to replace the missing values"
   ]
  },
  {
   "cell_type": "code",
   "execution_count": 9,
   "metadata": {},
   "outputs": [],
   "source": [
    "def identify_col(df):\n",
    "    null_perCol = df.isnull().sum()\n",
    "    insuff_col = {}\n",
    "    for index in range(len(null_perCol)):\n",
    "        if(df.shape[0]-null_perCol[index]<50000):\n",
    "            insuff_col[null_perCol.index[index]] = null_perCol[index]\n",
    "    return list(insuff_col.keys())"
   ]
  },
  {
   "cell_type": "code",
   "execution_count": 10,
   "metadata": {},
   "outputs": [
    {
     "name": "stdout",
     "output_type": "stream",
     "text": [
      "For YK data:  ['otp_read_line0_stdf_:ULT_Chksum@ULT_Chksum[1]', 'otp_read_blank:Functional[1]', 'g2bist_efuse_blank_read_f_:Functional[1]', 'tdf_50k_1_f_:Functional[1]', 'tdf_50k_2_f_:Functional[1]', 'stf_50k_1_f_:Functional[1]', 'tdf_50k_6_f_:Functional[1]', 'tdf_50k_3_f_:Functional[1]', 'g2bist_mac_256mhz_max_:Functional[1]', 'g2bist_mac_256mhz_min_:Functional[1]', 'sbist_soc_256mhz_max_:Functional[1]', 'sbist_soc_256mhz_min_:Functional[1]', 'stf_50k_2_f_:Functional[1]', 'stf_50k_3_f_:Functional[1]', 'stf_50k_4_f_:Functional[1]', 'tdf_50k_4_f_:Functional[1]', 'tdf_50k_5_f_:Functional[1]', 'tdf_50k_9_f_:Functional[1]', 'tdf_50k_8_f_:Functional[1]', 'tdf_90k_1_f_:Functional[1]', 'otp_read_line0_sva_f_:Functional[1]', 'tdf_50k_7_f_:Functional[1]', 'tdf_50k_10_f_:Functional[1]', 'tdf_90k_2_f_:Functional[1]', 'tdf_90k_3_f_:Functional[1]', 'tdf_90k_4_f_:Functional[1]', 'tdf_90k_5_f_:Functional[1]', 'tdf_90k_6_f_:Functional[1]', 'tdf_90k_7_f_:Functional[1]', 'tdf_90k_8_f_:Functional[1]', 'tdf_90k_9_f_:Functional[1]', 'tdf_90k_10_f_:Functional[1]', 'tdf_90k_11_f_:Functional[1]', 'tdf_90k_12_f_:Functional[1]', 'tdf_90k_13_f_:Functional[1]', 'tdf_90k_14_f_:Functional[1]', 'tdf_90k_15_f_:Functional[1]', 'tdf_90k_16_f_:Functional[1]', 'tdf_90k_17_f_:Functional[1]', 'tdf_90k_18_f_:Functional[1]']\n"
     ]
    }
   ],
   "source": [
    "#Applying the above function to set of data\n",
    "YK_less50000 = identify_col(YK_dropped)\n",
    "#Printing to see the tests (columns) that has <50,000 data points \n",
    "print(\"For YK data: \",YK_less50000)"
   ]
  },
  {
   "cell_type": "markdown",
   "metadata": {},
   "source": [
    "## Identify the applicable columns (i.e those with a label)\n",
    "Those without a label will be dropped, since there will not be any response variable (distribution of categories) to predict the predictor variable (data points)"
   ]
  },
  {
   "cell_type": "code",
   "execution_count": 11,
   "metadata": {},
   "outputs": [],
   "source": [
    "#Function to find out non applicable rows (no distribution, not part of training data)\n",
    "def non_applicable (df_label):\n",
    "    null_rowsLabel = df_label[df_label['Distribution Type'].isnull()]\n",
    "    null_rowsLabel = list(null_rowsLabel['Name'])\n",
    "    return null_rowsLabel"
   ]
  },
  {
   "cell_type": "code",
   "execution_count": 12,
   "metadata": {},
   "outputs": [
    {
     "name": "stdout",
     "output_type": "stream",
     "text": [
      "['otp_read_line0_stdf_:ULT_Chksum@ULT_Chksum[1]', 'otp_read_blank:Functional[1]', 'tdf_50k_1_f_:Functional[1]', 'tdf_50k_4_f_:Functional[1]', 'tdf_50k_9_f_:Functional[1]', 'tdf_50k_8_f_:Functional[1]', 'otp_read_line0_sva_f_:Functional[1]', 'tdf_50k_10_f_:Functional[1]', 'tdf_90k_2_f_:Functional[1]', 'tdf_90k_7_f_:Functional[1]', 'tdf_90k_8_f_:Functional[1]', 'tdf_90k_10_f_:Functional[1]', 'tdf_90k_11_f_:Functional[1]', 'tdf_90k_15_f_:Functional[1]']\n",
      "14\n"
     ]
    }
   ],
   "source": [
    "#Applying the above function to set of data\n",
    "YK_non_applicable = non_applicable(YK_label)\n",
    "#Printing the tests (columns) to see which tests do not have a distribution (i.e not applicable)\n",
    "print(YK_non_applicable)\n",
    "print(len(YK_non_applicable))"
   ]
  },
  {
   "cell_type": "markdown",
   "metadata": {},
   "source": [
    "## Identifying the applicable columns with <50,000 data points\n",
    "These columns could either be dropped, or replace with data, depending on the nature of the columns/test itself."
   ]
  },
  {
   "cell_type": "code",
   "execution_count": 13,
   "metadata": {},
   "outputs": [],
   "source": [
    "#Function to find out the specific columns which we will need to inspect\n",
    "def col_inspect(insuff_col_keys,null_rowsLabel):\n",
    "    col_to_inspect = [i for i in insuff_col_keys if i not in null_rowsLabel]\n",
    "    return col_to_inspect"
   ]
  },
  {
   "cell_type": "markdown",
   "metadata": {},
   "source": [
    "The code above is to find the columns with <50,000 points, yet are applicable (i.e there is a label). This means that these are the columns we would need to inspect and do some pre processing to them so that there is sufficient data points (50,000) to train these test."
   ]
  },
  {
   "cell_type": "code",
   "execution_count": 14,
   "metadata": {},
   "outputs": [
    {
     "name": "stdout",
     "output_type": "stream",
     "text": [
      "['g2bist_efuse_blank_read_f_:Functional[1]', 'tdf_50k_2_f_:Functional[1]', 'stf_50k_1_f_:Functional[1]', 'tdf_50k_6_f_:Functional[1]', 'tdf_50k_3_f_:Functional[1]', 'g2bist_mac_256mhz_max_:Functional[1]', 'g2bist_mac_256mhz_min_:Functional[1]', 'sbist_soc_256mhz_max_:Functional[1]', 'sbist_soc_256mhz_min_:Functional[1]', 'stf_50k_2_f_:Functional[1]', 'stf_50k_3_f_:Functional[1]', 'stf_50k_4_f_:Functional[1]', 'tdf_50k_5_f_:Functional[1]', 'tdf_90k_1_f_:Functional[1]', 'tdf_50k_7_f_:Functional[1]', 'tdf_90k_3_f_:Functional[1]', 'tdf_90k_4_f_:Functional[1]', 'tdf_90k_5_f_:Functional[1]', 'tdf_90k_6_f_:Functional[1]', 'tdf_90k_9_f_:Functional[1]', 'tdf_90k_12_f_:Functional[1]', 'tdf_90k_13_f_:Functional[1]', 'tdf_90k_14_f_:Functional[1]', 'tdf_90k_16_f_:Functional[1]', 'tdf_90k_17_f_:Functional[1]', 'tdf_90k_18_f_:Functional[1]']\n"
     ]
    }
   ],
   "source": [
    "#Applying the above function to set of data\n",
    "YK_inspect = col_inspect(YK_less50000,YK_non_applicable)\n",
    "#Printing to see the cols to inspect\n",
    "print(YK_inspect)"
   ]
  },
  {
   "cell_type": "markdown",
   "metadata": {},
   "source": [
    "## Replacing the missing values in these columns\n",
    "Note that as shown by the printed output above, for YK data, all the columns to inspect (those applicable and with <50,000 data points), they are all functional tests. we would need to do another round of checks to find out the distributions (labels) of the tests above to ensure that the replacement of missing values does not affect the distribution. "
   ]
  },
  {
   "cell_type": "code",
   "execution_count": 15,
   "metadata": {},
   "outputs": [
    {
     "data": {
      "text/plain": [
       "functional    26\n",
       "Name: Distribution Type, dtype: int64"
      ]
     },
     "execution_count": 15,
     "metadata": {},
     "output_type": "execute_result"
    }
   ],
   "source": [
    "#Checking the distribution of the col shown above to inspect if there are really functional!\n",
    "check_labels = YK_label[YK_label['Name'].isin(YK_inspect)]\n",
    "check_labels['Distribution Type'].value_counts()"
   ]
  },
  {
   "cell_type": "markdown",
   "metadata": {},
   "source": [
    "Since the above columns are all functional, we replace the missing values with 0 or 1 (since it will not affect the distribution)"
   ]
  },
  {
   "cell_type": "code",
   "execution_count": 16,
   "metadata": {},
   "outputs": [],
   "source": [
    "#Function to replace the missing values with 0 and 1\n",
    "def replace_func(df_dropped,df_col_inspect,non_applicable):\n",
    "    pd.options.mode.chained_assignment = None \n",
    "    #Replacing missing 0 and 1 values\n",
    "    for cols in df_col_inspect:\n",
    "        null_count = df_dropped[cols].isnull().sum()\n",
    "        df_dropped[cols] = df_dropped[cols].fillna(pd.Series(np.random.choice([0,-1],size=null_count)))\n",
    "    #Dropping the tests with no distributions (not applicable)\n",
    "    df = df_dropped.drop(columns=non_applicable)\n",
    "    return df"
   ]
  },
  {
   "cell_type": "code",
   "execution_count": 17,
   "metadata": {},
   "outputs": [],
   "source": [
    "#Applying it on data sets\n",
    "YK_replace = replace_func(YK_dropped,YK_inspect,YK_non_applicable)"
   ]
  },
  {
   "cell_type": "code",
   "execution_count": 18,
   "metadata": {},
   "outputs": [],
   "source": [
    "#Check if everything is replaced correctly (no more null values for the columns with <50000) data points\n",
    "def check_nonull(df):\n",
    "    null_perCol = df.isnull().sum()\n",
    "    insuff_col = {}\n",
    "    for index in range(len(null_perCol)):\n",
    "        if(df.shape[0]-null_perCol[index]<50000):\n",
    "            insuff_col[null_perCol.index[index]] = null_perCol[index]\n",
    "    print(insuff_col)\n",
    "    print(len(insuff_col))"
   ]
  },
  {
   "cell_type": "code",
   "execution_count": 19,
   "metadata": {},
   "outputs": [
    {
     "name": "stdout",
     "output_type": "stream",
     "text": [
      "{}\n",
      "0\n"
     ]
    }
   ],
   "source": [
    "check_nonull(YK_replace)"
   ]
  },
  {
   "cell_type": "markdown",
   "metadata": {},
   "source": [
    "## Sampling data\n",
    "For columns with >50000 data points, systematic sampling + randomised sampling will be done. In intervals of 2, data points will be selected and the leftover points will be selected by random"
   ]
  },
  {
   "cell_type": "code",
   "execution_count": 20,
   "metadata": {},
   "outputs": [],
   "source": [
    "#Converting systematic sampling (FOR FLOATS) to a function\n",
    "def float_sample_2(population,sample_size):\n",
    "    base_interval = len(population) // sample_size\n",
    "    remainder = len(population)%sample_size\n",
    "    #indices = []\n",
    "    indices = {}\n",
    "    #Add in min and max points in array\n",
    "    min_index = population.argmin()\n",
    "    max_index = population.argmax()\n",
    "    indices[0] = min_index\n",
    "    indices[1] = max_index\n",
    "    start_index = np.random.randint(0,base_interval)\n",
    "    for i in range(2,sample_size):\n",
    "        interval = base_interval + 1 if i < remainder else base_interval\n",
    "        #print(\"Interval is: \", interval)\n",
    "        index = (start_index + i * interval) % len(population)\n",
    "        #print(\"Index is: \",index)\n",
    "        #indices.append(index)\n",
    "        indices[i] = index\n",
    "    #print(\"The dict is: \",indices)\n",
    "    unique_indices = list(indices.values())\n",
    "    unique_indices = [*set(unique_indices)]\n",
    "    systematic_sample = population[unique_indices]\n",
    "    #print(\"Before delete\")\n",
    "    #print(\"systematic_sample: \",systematic_sample)\n",
    "    population = np.delete(population,unique_indices)\n",
    "    #print(\"After delete\")\n",
    "    if len(systematic_sample) < sample_size:\n",
    "        remaining_samples = sample_size - len(systematic_sample)\n",
    "        remaining_indices = np.random.choice(len(population),remaining_samples,replace=False)\n",
    "        systematic_sample = np.concatenate((systematic_sample,population[remaining_indices]))\n",
    "    return systematic_sample"
   ]
  },
  {
   "cell_type": "code",
   "execution_count": 21,
   "metadata": {},
   "outputs": [],
   "source": [
    "#Function to apply the systematic sampling for the function \n",
    "def apply_sampling(df):\n",
    "    new_df = pd.DataFrame()\n",
    "    for colName,colData in df.items():\n",
    "        data = df.dropna(subset=colName)\n",
    "        newCol = list(data[colName])\n",
    "        newCol = np.array(newCol)\n",
    "        newCol = pd.Series(float_sample_2(newCol,50000))\n",
    "        #Can only concat after sampling!!\n",
    "        new_df = pd.concat([new_df,newCol.rename(colName)],axis=1)\n",
    "    return new_df"
   ]
  },
  {
   "cell_type": "code",
   "execution_count": null,
   "metadata": {},
   "outputs": [],
   "source": [
    "#Apply sampling functions to datasets\n",
    "YK_data_final = apply_sampling(YK_replace)"
   ]
  },
  {
   "cell_type": "markdown",
   "metadata": {},
   "source": [
    "## Normalisation of the data \n",
    "Data are normalised using the min max module from scikit learn. This will compress the data points from 0 to 1 but will not change its distribution."
   ]
  },
  {
   "cell_type": "code",
   "execution_count": 23,
   "metadata": {},
   "outputs": [],
   "source": [
    "#Import relevant packages \n",
    "from sklearn import preprocessing\n",
    "min_max = preprocessing.MinMaxScaler()"
   ]
  },
  {
   "cell_type": "code",
   "execution_count": 24,
   "metadata": {},
   "outputs": [],
   "source": [
    "#Function to normalise all the columns in a dataframe\n",
    "def normalise(df):\n",
    "    final_df = pd.DataFrame()\n",
    "    for colName,colData in df.items():\n",
    "        c_scaled = min_max.fit_transform(df[[colName]])\n",
    "        c_scaled = pd.Series(c_scaled.ravel())\n",
    "        final_df = pd.concat([final_df,c_scaled.rename(colName)],axis=1)\n",
    "    return final_df"
   ]
  },
  {
   "cell_type": "code",
   "execution_count": 25,
   "metadata": {},
   "outputs": [
    {
     "name": "stdout",
     "output_type": "stream",
     "text": [
      "(50000, 1025)\n",
      "   temperature  Device_Test_Time   Part_Id  \\\n",
      "0          0.0          0.399193  0.000000   \n",
      "1          0.0          0.397441  0.000206   \n",
      "2          0.0          0.396992  0.000308   \n",
      "3          0.0          0.586461  0.000411   \n",
      "4          0.0          0.586461  0.000514   \n",
      "\n",
      "   g2bist_efuse_blank_read_f_:Functional[1]  tdf_50k_2_f_:Functional[1]  \\\n",
      "0                                       1.0                         1.0   \n",
      "1                                       0.0                         0.0   \n",
      "2                                       1.0                         1.0   \n",
      "3                                       0.0                         0.0   \n",
      "4                                       0.0                         1.0   \n",
      "\n",
      "   stf_50k_1_f_:Functional[1]  write_dro_sidd:Functional[1]  \\\n",
      "0                         0.0                           0.0   \n",
      "1                         1.0                           0.0   \n",
      "2                         0.0                           0.0   \n",
      "3                         1.0                           0.0   \n",
      "4                         1.0                           0.0   \n",
      "\n",
      "   brf1_fsm_tx_:Functional[1]  otp_array_readout_min:Functional[1]  \\\n",
      "0                         0.0                                  0.0   \n",
      "1                         0.0                                  0.0   \n",
      "2                         0.0                                  0.0   \n",
      "3                         0.0                                  0.0   \n",
      "4                         0.0                                  0.0   \n",
      "\n",
      "   bbud_lpbk_min:Functional[1]  ...  tdf_90k_18_p_:Functional[1]  \\\n",
      "0                          0.0  ...                          0.0   \n",
      "1                          0.0  ...                          0.0   \n",
      "2                          0.0  ...                          0.0   \n",
      "3                          0.0  ...                          0.0   \n",
      "4                          0.0  ...                          0.0   \n",
      "\n",
      "   tdf_90k_1_p_:Functional[1]  tdf_90k_2_p_:Functional[1]  \\\n",
      "0                         0.0                         0.0   \n",
      "1                         0.0                         0.0   \n",
      "2                         0.0                         0.0   \n",
      "3                         0.0                         0.0   \n",
      "4                         0.0                         0.0   \n",
      "\n",
      "   tdf_90k_3_p_:Functional[1]  tdf_90k_4_p_:Functional[1]  \\\n",
      "0                         0.0                         0.0   \n",
      "1                         0.0                         0.0   \n",
      "2                         0.0                         0.0   \n",
      "3                         0.0                         0.0   \n",
      "4                         0.0                         0.0   \n",
      "\n",
      "   tdf_90k_5_p_:Functional[1]  tdf_90k_6_p_:Functional[1]  \\\n",
      "0                         0.0                         0.0   \n",
      "1                         0.0                         0.0   \n",
      "2                         0.0                         0.0   \n",
      "3                         0.0                         0.0   \n",
      "4                         0.0                         0.0   \n",
      "\n",
      "   tdf_90k_7_p_:Functional[1]  tdf_90k_8_p_:Functional[1]  \\\n",
      "0                         0.0                         0.0   \n",
      "1                         0.0                         0.0   \n",
      "2                         0.0                         0.0   \n",
      "3                         0.0                         0.0   \n",
      "4                         0.0                         0.0   \n",
      "\n",
      "   tdf_90k_9_p_:Functional[1]  \n",
      "0                         0.0  \n",
      "1                         0.0  \n",
      "2                         0.0  \n",
      "3                         0.0  \n",
      "4                         0.0  \n",
      "\n",
      "[5 rows x 1025 columns]\n"
     ]
    }
   ],
   "source": [
    "#Applying it to the datasets\n",
    "YK_data_final = normalise(YK_data_final)\n",
    "#Printing to see the shape of the data\n",
    "print(YK_data_final.shape)\n",
    "print(YK_data_final.head())"
   ]
  },
  {
   "cell_type": "markdown",
   "metadata": {},
   "source": [
    "## Pre-processing the label file\n",
    "The codes above are for the raw data (The data points for each test).The labels under the label file (YK_label) are the categorical variables denoting the distribution of each test (each column in the raw data file). There are 6 labels/distribution categories - outlier, normal, longtail, functional, discrete and bimodal. Now we will process the label files and identify those rows where there are no distribution (not applicable) and proceed to drop them. "
   ]
  },
  {
   "cell_type": "code",
   "execution_count": 26,
   "metadata": {},
   "outputs": [],
   "source": [
    "#Function to faciliate the dropping of the null rows in labels file\n",
    "def drop_null_labels(label_df,not_applicable):\n",
    "    df = label_df.drop(label_df[label_df.Name.isin(not_applicable)].index)\n",
    "    return df"
   ]
  },
  {
   "cell_type": "code",
   "execution_count": 27,
   "metadata": {},
   "outputs": [],
   "source": [
    "#Applying it to set of data\n",
    "YK_label_final = drop_null_labels(YK_label,YK_non_applicable)"
   ]
  },
  {
   "cell_type": "markdown",
   "metadata": {},
   "source": [
    "Now for visualisation, we will concatenate the dataframes together, such that we will have 2 columns, 'Name' and 'Distribution Type' for the tests and distribution respectively. We will use the below 2 functions to facilitate the concatenation."
   ]
  },
  {
   "cell_type": "code",
   "execution_count": 28,
   "metadata": {},
   "outputs": [],
   "source": [
    "#Function to concat the dataframes (raw data and the name of the tests) -> row format. i.e 2 columns: data, name\n",
    "def concat_xy(df):\n",
    "    cols = ['Data','Name']\n",
    "    concat_df = pd.DataFrame(columns=cols,index=range(df.shape[1]))\n",
    "    index = 0\n",
    "    for colName, colData in df.items():\n",
    "        #variable index is to retrieve the index of the columns in YK raw (final_df)\n",
    "        vals = np.array(colData.values)\n",
    "        concat_df.loc[index].Data = vals\n",
    "        concat_df.loc[index].Name = colName\n",
    "        index+=1\n",
    "    return concat_df"
   ]
  },
  {
   "cell_type": "code",
   "execution_count": 29,
   "metadata": {},
   "outputs": [
    {
     "name": "stdout",
     "output_type": "stream",
     "text": [
      "                                                Data  \\\n",
      "0  [0.0, 0.0, 0.0, 0.0, 0.0, 0.0, 0.0, 0.0, 0.0, ...   \n",
      "1  [0.399193055385744, 0.39744059991033953, 0.396...   \n",
      "2  [0.0, 0.0002055076037813399, 0.000308261405672...   \n",
      "3  [1.0, 0.0, 1.0, 0.0, 0.0, 0.0, 0.0, 1.0, 1.0, ...   \n",
      "4  [1.0, 0.0, 1.0, 0.0, 1.0, 1.0, 1.0, 0.0, 0.0, ...   \n",
      "\n",
      "                                       Name  \n",
      "0                               temperature  \n",
      "1                          Device_Test_Time  \n",
      "2                                   Part_Id  \n",
      "3  g2bist_efuse_blank_read_f_:Functional[1]  \n",
      "4                tdf_50k_2_f_:Functional[1]  \n"
     ]
    }
   ],
   "source": [
    "#Applying it to our dataset\n",
    "YK_testname_data = concat_xy(YK_data_final)\n",
    "#See how it looks like\n",
    "print(YK_testname_data.head())"
   ]
  },
  {
   "cell_type": "code",
   "execution_count": 30,
   "metadata": {},
   "outputs": [],
   "source": [
    "#Function concatenating the Y (distribution) with the raw data (X) -> dataframe passed in is the label final! concat_df is testname_data\n",
    "def model_xy(label_df,concat_df):\n",
    "    dist_labels = label_df[['Distribution Type','Name']]\n",
    "    model_df = pd.merge(concat_df,dist_labels,on='Name')\n",
    "    model_df_xy = model_df[['Data','Distribution Type']]\n",
    "    return model_df_xy"
   ]
  },
  {
   "cell_type": "code",
   "execution_count": 31,
   "metadata": {},
   "outputs": [
    {
     "name": "stdout",
     "output_type": "stream",
     "text": [
      "(1025, 2)\n",
      "                                                Data Distribution Type\n",
      "0  [0.0, 0.0, 0.0, 0.0, 0.0, 0.0, 0.0, 0.0, 0.0, ...        functional\n",
      "1  [0.399193055385744, 0.39744059991033953, 0.396...          longtail\n",
      "2  [0.0, 0.0002055076037813399, 0.000308261405672...          longtail\n",
      "3  [1.0, 0.0, 1.0, 0.0, 0.0, 0.0, 0.0, 1.0, 1.0, ...        functional\n",
      "4  [1.0, 0.0, 1.0, 0.0, 1.0, 1.0, 1.0, 0.0, 0.0, ...        functional\n"
     ]
    }
   ],
   "source": [
    "#Applying it to the data sets\n",
    "YK_model = model_xy(YK_label_final,YK_testname_data)\n",
    "print(YK_model.shape)\n",
    "#Visualising how it looks like\n",
    "print(YK_model.head())"
   ]
  },
  {
   "attachments": {},
   "cell_type": "markdown",
   "metadata": {},
   "source": [
    "## LUNA\n",
    "Separate distribution type (target labels) into two distinct group. Aim is to group outlier and longtail distributions together, for binary classification task."
   ]
  },
  {
   "cell_type": "code",
   "execution_count": 38,
   "metadata": {},
   "outputs": [
    {
     "data": {
      "image/png": "[encoded data removed]",
      "text/plain": [
       "<Figure size 640x480 with 1 Axes>"
      ]
     },
     "metadata": {},
     "output_type": "display_data"
    }
   ],
   "source": [
    "distribution_counts = YK_model['Distribution Type'].value_counts()\n",
    "\n",
    "import matplotlib.pyplot as plt\n",
    "\n",
    "distribution_counts.plot(kind='bar')\n",
    "plt.title('Distribution Counts')\n",
    "plt.xlabel('Distribution Label')\n",
    "plt.xticks(rotation=0)\n",
    "plt.ylabel('Count')\n",
    "plt.show()\n"
   ]
  },
  {
   "cell_type": "code",
   "execution_count": 116,
   "metadata": {},
   "outputs": [],
   "source": [
    "# Function to relabel target variable into binary values, where outlier and longtail are grouped together\n",
    "\n",
    "def relabel_data(original_label):\n",
    "    if original_label in ['outlier', 'longtail']:  \n",
    "        return 'Outlier/Longtail'\n",
    "    else:\n",
    "        return 'Other'"
   ]
  },
  {
   "cell_type": "code",
   "execution_count": 117,
   "metadata": {},
   "outputs": [],
   "source": [
    "# New column added with the updated labels \n",
    "\n",
    "YK_model['new_label'] = YK_model['Distribution Type'].apply(relabel_data)"
   ]
  },
  {
   "cell_type": "code",
   "execution_count": 118,
   "metadata": {},
   "outputs": [
    {
     "data": {
      "image/png": "[encoded data removed]",
      "text/plain": [
       "<Figure size 640x480 with 1 Axes>"
      ]
     },
     "metadata": {},
     "output_type": "display_data"
    }
   ],
   "source": [
    "binary_distribution_counts = YK_model['new_label'].value_counts()\n",
    "\n",
    "binary_distribution_counts.plot(kind='bar')\n",
    "plt.title('Distribution Counts')\n",
    "plt.xlabel('Distribution Label')\n",
    "plt.xticks(rotation=0)\n",
    "plt.ylabel('Count')\n",
    "plt.show()"
   ]
  },
  {
   "attachments": {},
   "cell_type": "markdown",
   "metadata": {},
   "source": [
    "## Reducing feature space \n",
    "Propose to try different methods for reducing features:\n",
    "1. PCA dimensionality reduction\n",
    "2. Clustering using Kmeans, then sample from every cluster\n",
    "3. Stratified sampling with binning\n",
    "\n",
    "Propose to engineer new features (additional) regardless of method chosen above:\n",
    "1. Mean/median/mode\n",
    "2. Z-score and IQR labelling \n",
    "3. Skewness and kurtosis\n",
    "\n",
    "At the end, to find out if:\n",
    "1. Is converting feature space to just the additional features (solely statistical parameters or outlier statistics) without the test data better?\n",
    "2. For blunderbuss with 6 different classes, how to balance data set? (previous method was trimming)\n",
    "3. Is model necessary? Or is pipeline of statisical analysis enough to classify the exact distribution?\n",
    "4. Is there a way to standardize the labelling of distribution? (currently based on 3 employees' judgements) -> this is to prevent model from being trained just on their judgements, or even worse just on one of their judgements"
   ]
  },
  {
   "cell_type": "code",
   "execution_count": 119,
   "metadata": {},
   "outputs": [
    {
     "data": {
      "text/plain": [
       "(1025, 2)"
      ]
     },
     "execution_count": 119,
     "metadata": {},
     "output_type": "execute_result"
    }
   ],
   "source": [
    "binary_df = YK_model[['Data','new_label']]\n",
    "binary_df.shape\n",
    "#1025 data points (tests), each with 50000 features (test values)"
   ]
  },
  {
   "cell_type": "code",
   "execution_count": 120,
   "metadata": {},
   "outputs": [
    {
     "data": {
      "text/html": [
       "<div>\n",
       "<style scoped>\n",
       "    .dataframe tbody tr th:only-of-type {\n",
       "        vertical-align: middle;\n",
       "    }\n",
       "\n",
       "    .dataframe tbody tr th {\n",
       "        vertical-align: top;\n",
       "    }\n",
       "\n",
       "    .dataframe thead th {\n",
       "        text-align: right;\n",
       "    }\n",
       "</style>\n",
       "<table border=\"1\" class=\"dataframe\">\n",
       "  <thead>\n",
       "    <tr style=\"text-align: right;\">\n",
       "      <th></th>\n",
       "      <th>Data</th>\n",
       "      <th>new_label</th>\n",
       "    </tr>\n",
       "  </thead>\n",
       "  <tbody>\n",
       "    <tr>\n",
       "      <th>0</th>\n",
       "      <td>[0.0, 0.0, 0.0, 0.0, 0.0, 0.0, 0.0, 0.0, 0.0, ...</td>\n",
       "      <td>Other</td>\n",
       "    </tr>\n",
       "    <tr>\n",
       "      <th>1</th>\n",
       "      <td>[0.399193055385744, 0.39744059991033953, 0.396...</td>\n",
       "      <td>Outlier/Longtail</td>\n",
       "    </tr>\n",
       "    <tr>\n",
       "      <th>2</th>\n",
       "      <td>[0.0, 0.0002055076037813399, 0.000308261405672...</td>\n",
       "      <td>Outlier/Longtail</td>\n",
       "    </tr>\n",
       "    <tr>\n",
       "      <th>3</th>\n",
       "      <td>[1.0, 0.0, 1.0, 0.0, 0.0, 0.0, 0.0, 1.0, 1.0, ...</td>\n",
       "      <td>Other</td>\n",
       "    </tr>\n",
       "    <tr>\n",
       "      <th>4</th>\n",
       "      <td>[1.0, 0.0, 1.0, 0.0, 1.0, 1.0, 1.0, 0.0, 0.0, ...</td>\n",
       "      <td>Other</td>\n",
       "    </tr>\n",
       "  </tbody>\n",
       "</table>\n",
       "</div>"
      ],
      "text/plain": [
       "                                                Data         new_label\n",
       "0  [0.0, 0.0, 0.0, 0.0, 0.0, 0.0, 0.0, 0.0, 0.0, ...             Other\n",
       "1  [0.399193055385744, 0.39744059991033953, 0.396...  Outlier/Longtail\n",
       "2  [0.0, 0.0002055076037813399, 0.000308261405672...  Outlier/Longtail\n",
       "3  [1.0, 0.0, 1.0, 0.0, 0.0, 0.0, 0.0, 1.0, 1.0, ...             Other\n",
       "4  [1.0, 0.0, 1.0, 0.0, 1.0, 1.0, 1.0, 0.0, 0.0, ...             Other"
      ]
     },
     "execution_count": 120,
     "metadata": {},
     "output_type": "execute_result"
    }
   ],
   "source": [
    "binary_df.head()"
   ]
  },
  {
   "cell_type": "code",
   "execution_count": 121,
   "metadata": {},
   "outputs": [],
   "source": [
    "# Function to bin data based on quantiles\n",
    "def bin_data(df, num_bins):\n",
    "    new_df = []\n",
    "    for index, row in df.iterrows():\n",
    "        values = row['Data']\n",
    "        label = row['new_label']\n",
    "\n",
    "        if len(pd.unique(values)) <= 2:\n",
    "            # Directly use the binary values since not enough unique values to granularly separate into bins\n",
    "            binned_values = values.astype(int)\n",
    "        else:\n",
    "            binned_values = pd.qcut(values, num_bins, labels=False, duplicates='drop')\n",
    "\n",
    "        new_df.append({\n",
    "        'data': values,\n",
    "        'bin': binned_values,\n",
    "        'label': label\n",
    "        })\n",
    "    return pd.DataFrame(new_df)"
   ]
  },
  {
   "cell_type": "code",
   "execution_count": 122,
   "metadata": {},
   "outputs": [],
   "source": [
    "binned_df = bin_data(binary_df, 5000)"
   ]
  },
  {
   "cell_type": "code",
   "execution_count": 168,
   "metadata": {},
   "outputs": [
    {
     "data": {
      "text/html": [
       "<div>\n",
       "<style scoped>\n",
       "    .dataframe tbody tr th:only-of-type {\n",
       "        vertical-align: middle;\n",
       "    }\n",
       "\n",
       "    .dataframe tbody tr th {\n",
       "        vertical-align: top;\n",
       "    }\n",
       "\n",
       "    .dataframe thead th {\n",
       "        text-align: right;\n",
       "    }\n",
       "</style>\n",
       "<table border=\"1\" class=\"dataframe\">\n",
       "  <thead>\n",
       "    <tr style=\"text-align: right;\">\n",
       "      <th></th>\n",
       "      <th>data</th>\n",
       "      <th>bin</th>\n",
       "      <th>label</th>\n",
       "    </tr>\n",
       "  </thead>\n",
       "  <tbody>\n",
       "    <tr>\n",
       "      <th>1</th>\n",
       "      <td>[0.399193055385744, 0.39744059991033953, 0.396...</td>\n",
       "      <td>(65, 64, 63, 1086, 1086, 1086, 1209, 1209, 120...</td>\n",
       "      <td>Outlier/Longtail</td>\n",
       "    </tr>\n",
       "    <tr>\n",
       "      <th>2</th>\n",
       "      <td>[0.0, 0.0002055076037813399, 0.000308261405672...</td>\n",
       "      <td>(0, 3, 5, 7, 9, 11, 13, 15, 18, 20, 22, 24, 26...</td>\n",
       "      <td>Outlier/Longtail</td>\n",
       "    </tr>\n",
       "    <tr>\n",
       "      <th>84</th>\n",
       "      <td>[0.3804993788936786, 0.3871456870753418, 0.428...</td>\n",
       "      <td>(1870, 2025, 3113, 4009, 2263, 2854, 4987, 182...</td>\n",
       "      <td>Outlier/Longtail</td>\n",
       "    </tr>\n",
       "    <tr>\n",
       "      <th>85</th>\n",
       "      <td>[0.38633312616532045, 0.439285270354258, 0.468...</td>\n",
       "      <td>(1578, 2826, 3572, 3689, 2337, 2946, 4980, 179...</td>\n",
       "      <td>Outlier/Longtail</td>\n",
       "    </tr>\n",
       "    <tr>\n",
       "      <th>86</th>\n",
       "      <td>[0.7492980162046248, 0.7903511002021304, 0.730...</td>\n",
       "      <td>(1377, 4484, 477, 3046, 4369, 373, 2418, 4319,...</td>\n",
       "      <td>Outlier/Longtail</td>\n",
       "    </tr>\n",
       "    <tr>\n",
       "      <th>...</th>\n",
       "      <td>...</td>\n",
       "      <td>...</td>\n",
       "      <td>...</td>\n",
       "    </tr>\n",
       "    <tr>\n",
       "      <th>983</th>\n",
       "      <td>[0.3555555555555556, 0.3111111111111111, 0.377...</td>\n",
       "      <td>(12, 10, 13, 15, 13, 8, 16, 11, 12, 18, 7, 11,...</td>\n",
       "      <td>Outlier/Longtail</td>\n",
       "    </tr>\n",
       "    <tr>\n",
       "      <th>984</th>\n",
       "      <td>[0.33890414229437726, 0.4501611555449443, 0.34...</td>\n",
       "      <td>(537, 1553, 627, 943, 420, 844, 1281, 1591, 50...</td>\n",
       "      <td>Outlier/Longtail</td>\n",
       "    </tr>\n",
       "    <tr>\n",
       "      <th>985</th>\n",
       "      <td>[0.512159603902723, 0.6807921945536624, 0.5229...</td>\n",
       "      <td>(706, 1981, 785, 1324, 568, 829, 1796, 1954, 5...</td>\n",
       "      <td>Outlier/Longtail</td>\n",
       "    </tr>\n",
       "    <tr>\n",
       "      <th>986</th>\n",
       "      <td>[0.4927363972530374, 0.6436872688853672, 0.506...</td>\n",
       "      <td>(663, 1911, 774, 1167, 550, 983, 1800, 1844, 6...</td>\n",
       "      <td>Outlier/Longtail</td>\n",
       "    </tr>\n",
       "    <tr>\n",
       "      <th>987</th>\n",
       "      <td>[0.3343710202348946, 0.4088014716286965, 0.326...</td>\n",
       "      <td>(396, 973, 329, 557, 444, 619, 1195, 1144, 617...</td>\n",
       "      <td>Outlier/Longtail</td>\n",
       "    </tr>\n",
       "  </tbody>\n",
       "</table>\n",
       "<p>503 rows × 3 columns</p>\n",
       "</div>"
      ],
      "text/plain": [
       "                                                  data  \\\n",
       "1    [0.399193055385744, 0.39744059991033953, 0.396...   \n",
       "2    [0.0, 0.0002055076037813399, 0.000308261405672...   \n",
       "84   [0.3804993788936786, 0.3871456870753418, 0.428...   \n",
       "85   [0.38633312616532045, 0.439285270354258, 0.468...   \n",
       "86   [0.7492980162046248, 0.7903511002021304, 0.730...   \n",
       "..                                                 ...   \n",
       "983  [0.3555555555555556, 0.3111111111111111, 0.377...   \n",
       "984  [0.33890414229437726, 0.4501611555449443, 0.34...   \n",
       "985  [0.512159603902723, 0.6807921945536624, 0.5229...   \n",
       "986  [0.4927363972530374, 0.6436872688853672, 0.506...   \n",
       "987  [0.3343710202348946, 0.4088014716286965, 0.326...   \n",
       "\n",
       "                                                   bin             label  \n",
       "1    (65, 64, 63, 1086, 1086, 1086, 1209, 1209, 120...  Outlier/Longtail  \n",
       "2    (0, 3, 5, 7, 9, 11, 13, 15, 18, 20, 22, 24, 26...  Outlier/Longtail  \n",
       "84   (1870, 2025, 3113, 4009, 2263, 2854, 4987, 182...  Outlier/Longtail  \n",
       "85   (1578, 2826, 3572, 3689, 2337, 2946, 4980, 179...  Outlier/Longtail  \n",
       "86   (1377, 4484, 477, 3046, 4369, 373, 2418, 4319,...  Outlier/Longtail  \n",
       "..                                                 ...               ...  \n",
       "983  (12, 10, 13, 15, 13, 8, 16, 11, 12, 18, 7, 11,...  Outlier/Longtail  \n",
       "984  (537, 1553, 627, 943, 420, 844, 1281, 1591, 50...  Outlier/Longtail  \n",
       "985  (706, 1981, 785, 1324, 568, 829, 1796, 1954, 5...  Outlier/Longtail  \n",
       "986  (663, 1911, 774, 1167, 550, 983, 1800, 1844, 6...  Outlier/Longtail  \n",
       "987  (396, 973, 329, 557, 444, 619, 1195, 1144, 617...  Outlier/Longtail  \n",
       "\n",
       "[503 rows x 3 columns]"
      ]
     },
     "execution_count": 168,
     "metadata": {},
     "output_type": "execute_result"
    }
   ],
   "source": [
    "binned_df[binned_df['label'] != 'Other']"
   ]
  },
  {
   "cell_type": "code",
   "execution_count": null,
   "metadata": {},
   "outputs": [],
   "source": [
    "def sample_from_bins(row, num_samples):\n",
    "    data = row['data']\n",
    "    bins = row['bin']\n",
    "    \n",
    "    data_array = np.array(data)\n",
    "    bins_array = np.array(bins)\n",
    "    \n",
    "    unique_bins = np.unique(bins_array)\n",
    "    \n",
    "    sampled_data = []\n",
    "    sampled_bins = []\n",
    "    \n",
    "    for b in unique_bins:\n",
    "        bin_indices = np.where(bins_array == b)[0]\n",
    "        if len(bin_indices) > 0:\n",
    "            num_samples_per_bin = max(num_samples // len(unique_bins), 1)\n",
    "            sampled_indices = np.random.choice(bin_indices, min(len(bin_indices), num_samples_per_bin), replace=False)\n",
    "            sampled_data.extend(data_array[sampled_indices])\n",
    "            sampled_bins.extend(bins_array[sampled_indices])\n",
    "    \n",
    "    # If the total number of sampled data points is less than num_samples, fill the remaining with data points\n",
    "    if len(sampled_data) < num_samples:\n",
    "        additional_samples = num_samples - len(sampled_data)\n",
    "        additional_indices = np.random.choice(len(data_array), additional_samples, replace=False)\n",
    "        sampled_data.extend(data_array[additional_indices])\n",
    "        sampled_bins.extend(bins_array[additional_indices])\n",
    "    \n",
    "    return pd.Series({'data': sampled_data, 'bin': sampled_bins, 'label': row['label']})\n"
   ]
  },
  {
   "cell_type": "code",
   "execution_count": 133,
   "metadata": {},
   "outputs": [],
   "source": [
    "# Stratified sampling by bins\n",
    "def stratified_sampling(df, bin_col, sample_size):\n",
    "    \n",
    "\n",
    "    df[bin_col] = df[bin_col].apply(lambda x: tuple(x))\n",
    "    num_bins = df[bin_col].nunique() #number of bins \n",
    "    samples_per_bin = sample_size // num_bins #number of data points to take from each bin\n",
    "\n",
    "    df_sampled = df.groupby(bin_col, group_keys=False).apply(lambda x: x.sample(min(len(x), samples_per_bin)))\n",
    "    return df_sampled"
   ]
  },
  {
   "cell_type": "code",
   "execution_count": 134,
   "metadata": {},
   "outputs": [],
   "source": [
    "sample_size = 5000\n",
    "sampled_df = stratified_sampling(binned_df, 'bin', sample_size)"
   ]
  },
  {
   "cell_type": "code",
   "execution_count": 154,
   "metadata": {},
   "outputs": [
    {
     "data": {
      "text/plain": [
       "50000"
      ]
     },
     "execution_count": 154,
     "metadata": {},
     "output_type": "execute_result"
    }
   ],
   "source": [
    "len(binned_df['bin'][0])"
   ]
  },
  {
   "cell_type": "code",
   "execution_count": 162,
   "metadata": {},
   "outputs": [
    {
     "data": {
      "text/plain": [
       "0       (0, 0, 0, 0, 0, 0, 0, 0, 0, 0, 0, 0, 0, 0, 0, ...\n",
       "1       (65, 64, 63, 1086, 1086, 1086, 1209, 1209, 120...\n",
       "2       (0, 3, 5, 7, 9, 11, 13, 15, 18, 20, 22, 24, 26...\n",
       "3       (1, 0, 1, 0, 0, 0, 0, 1, 1, 0, 0, 1, 0, 0, 0, ...\n",
       "4       (1, 0, 1, 0, 1, 1, 1, 0, 0, 1, 1, 1, 0, 0, 1, ...\n",
       "                              ...                        \n",
       "1020    (0, 0, 0, 0, 0, 0, 0, 0, 0, 0, 0, 0, 0, 0, 0, ...\n",
       "1021    (0, 0, 0, 0, 0, 0, 0, 0, 0, 0, 0, 0, 0, 0, 0, ...\n",
       "1022    (0, 0, 0, 0, 0, 0, 0, 0, 0, 0, 0, 0, 0, 0, 0, ...\n",
       "1023    (0, 0, 0, 0, 0, 0, 0, 0, 0, 0, 0, 0, 0, 0, 0, ...\n",
       "1024    (0, 0, 0, 0, 0, 0, 0, 0, 0, 0, 0, 0, 0, 0, 0, ...\n",
       "Name: bin, Length: 1025, dtype: object"
      ]
     },
     "execution_count": 162,
     "metadata": {},
     "output_type": "execute_result"
    }
   ],
   "source": [
    "binned_df['bin']"
   ]
  },
  {
   "cell_type": "code",
   "execution_count": 167,
   "metadata": {},
   "outputs": [
    {
     "data": {
      "text/plain": [
       "965     (0, 0, 0, 0, 0, 0, 0, 0, 0, 0, 0, 0, 0, 0, 0, ...\n",
       "1022    (0, 0, 0, 0, 0, 0, 0, 0, 0, 0, 0, 0, 0, 0, 0, ...\n",
       "1024    (0, 0, 0, 0, 0, 0, 0, 0, 0, 0, 0, 0, 0, 0, 0, ...\n",
       "888     (0, 0, 0, 0, 0, 0, 0, 0, 0, 0, 0, 0, 0, 0, 0, ...\n",
       "453     (0, 0, 0, 0, 0, 0, 0, 0, 0, 0, 0, 0, 0, 0, 0, ...\n",
       "                              ...                        \n",
       "659     (4969, 4431, 2293, 4670, 2197, 2750, 4460, 319...\n",
       "577     (4972, 2068, 2157, 3815, 3114, 3223, 3300, 362...\n",
       "860     (4986, 1551, 3094, 692, 3496, 3515, 405, 1735,...\n",
       "613     (4995, 1638, 3961, 3581, 4653, 1125, 3631, 466...\n",
       "612     (4998, 1540, 4315, 4821, 4849, 1058, 4910, 497...\n",
       "Name: bin, Length: 914, dtype: object"
      ]
     },
     "execution_count": 167,
     "metadata": {},
     "output_type": "execute_result"
    }
   ],
   "source": [
    "sampled_df['bin']"
   ]
  },
  {
   "cell_type": "code",
   "execution_count": 166,
   "metadata": {},
   "outputs": [
    {
     "data": {
      "text/plain": [
       "50000"
      ]
     },
     "execution_count": 166,
     "metadata": {},
     "output_type": "execute_result"
    }
   ],
   "source": [
    "len(sampled_df['bin'][965])"
   ]
  },
  {
   "cell_type": "code",
   "execution_count": 145,
   "metadata": {},
   "outputs": [
    {
     "ename": "KeyError",
     "evalue": "0",
     "output_type": "error",
     "traceback": [
      "\u001b[0;31m---------------------------------------------------------------------------\u001b[0m",
      "\u001b[0;31mKeyError\u001b[0m                                  Traceback (most recent call last)",
      "File \u001b[0;32m/opt/homebrew/lib/python3.9/site-packages/pandas/core/indexes/base.py:3621\u001b[0m, in \u001b[0;36mIndex.get_loc\u001b[0;34m(self, key, method, tolerance)\u001b[0m\n\u001b[1;32m   3620\u001b[0m \u001b[39mtry\u001b[39;00m:\n\u001b[0;32m-> 3621\u001b[0m     \u001b[39mreturn\u001b[39;00m \u001b[39mself\u001b[39;49m\u001b[39m.\u001b[39;49m_engine\u001b[39m.\u001b[39;49mget_loc(casted_key)\n\u001b[1;32m   3622\u001b[0m \u001b[39mexcept\u001b[39;00m \u001b[39mKeyError\u001b[39;00m \u001b[39mas\u001b[39;00m err:\n",
      "File \u001b[0;32m/opt/homebrew/lib/python3.9/site-packages/pandas/_libs/index.pyx:136\u001b[0m, in \u001b[0;36mpandas._libs.index.IndexEngine.get_loc\u001b[0;34m()\u001b[0m\n",
      "File \u001b[0;32m/opt/homebrew/lib/python3.9/site-packages/pandas/_libs/index.pyx:163\u001b[0m, in \u001b[0;36mpandas._libs.index.IndexEngine.get_loc\u001b[0;34m()\u001b[0m\n",
      "File \u001b[0;32mpandas/_libs/hashtable_class_helper.pxi:5198\u001b[0m, in \u001b[0;36mpandas._libs.hashtable.PyObjectHashTable.get_item\u001b[0;34m()\u001b[0m\n",
      "File \u001b[0;32mpandas/_libs/hashtable_class_helper.pxi:5206\u001b[0m, in \u001b[0;36mpandas._libs.hashtable.PyObjectHashTable.get_item\u001b[0;34m()\u001b[0m\n",
      "\u001b[0;31mKeyError\u001b[0m: 0",
      "\nThe above exception was the direct cause of the following exception:\n",
      "\u001b[0;31mKeyError\u001b[0m                                  Traceback (most recent call last)",
      "Cell \u001b[0;32mIn[145], line 1\u001b[0m\n\u001b[0;32m----> 1\u001b[0m sampled_df[\u001b[39m0\u001b[39;49m]\n",
      "File \u001b[0;32m/opt/homebrew/lib/python3.9/site-packages/pandas/core/frame.py:3505\u001b[0m, in \u001b[0;36mDataFrame.__getitem__\u001b[0;34m(self, key)\u001b[0m\n\u001b[1;32m   3503\u001b[0m \u001b[39mif\u001b[39;00m \u001b[39mself\u001b[39m\u001b[39m.\u001b[39mcolumns\u001b[39m.\u001b[39mnlevels \u001b[39m>\u001b[39m \u001b[39m1\u001b[39m:\n\u001b[1;32m   3504\u001b[0m     \u001b[39mreturn\u001b[39;00m \u001b[39mself\u001b[39m\u001b[39m.\u001b[39m_getitem_multilevel(key)\n\u001b[0;32m-> 3505\u001b[0m indexer \u001b[39m=\u001b[39m \u001b[39mself\u001b[39;49m\u001b[39m.\u001b[39;49mcolumns\u001b[39m.\u001b[39;49mget_loc(key)\n\u001b[1;32m   3506\u001b[0m \u001b[39mif\u001b[39;00m is_integer(indexer):\n\u001b[1;32m   3507\u001b[0m     indexer \u001b[39m=\u001b[39m [indexer]\n",
      "File \u001b[0;32m/opt/homebrew/lib/python3.9/site-packages/pandas/core/indexes/base.py:3623\u001b[0m, in \u001b[0;36mIndex.get_loc\u001b[0;34m(self, key, method, tolerance)\u001b[0m\n\u001b[1;32m   3621\u001b[0m     \u001b[39mreturn\u001b[39;00m \u001b[39mself\u001b[39m\u001b[39m.\u001b[39m_engine\u001b[39m.\u001b[39mget_loc(casted_key)\n\u001b[1;32m   3622\u001b[0m \u001b[39mexcept\u001b[39;00m \u001b[39mKeyError\u001b[39;00m \u001b[39mas\u001b[39;00m err:\n\u001b[0;32m-> 3623\u001b[0m     \u001b[39mraise\u001b[39;00m \u001b[39mKeyError\u001b[39;00m(key) \u001b[39mfrom\u001b[39;00m \u001b[39merr\u001b[39;00m\n\u001b[1;32m   3624\u001b[0m \u001b[39mexcept\u001b[39;00m \u001b[39mTypeError\u001b[39;00m:\n\u001b[1;32m   3625\u001b[0m     \u001b[39m# If we have a listlike key, _check_indexing_error will raise\u001b[39;00m\n\u001b[1;32m   3626\u001b[0m     \u001b[39m#  InvalidIndexError. Otherwise we fall through and re-raise\u001b[39;00m\n\u001b[1;32m   3627\u001b[0m     \u001b[39m#  the TypeError.\u001b[39;00m\n\u001b[1;32m   3628\u001b[0m     \u001b[39mself\u001b[39m\u001b[39m.\u001b[39m_check_indexing_error(key)\n",
      "\u001b[0;31mKeyError\u001b[0m: 0"
     ]
    }
   ],
   "source": [
    "sampled_df[0]"
   ]
  },
  {
   "cell_type": "code",
   "execution_count": 128,
   "metadata": {},
   "outputs": [
    {
     "name": "stdout",
     "output_type": "stream",
     "text": [
      "<class 'numpy.ndarray'>    1025\n",
      "Name: bin, dtype: int64\n"
     ]
    }
   ],
   "source": [
    "print(binned_df['bin'].apply(type).value_counts())"
   ]
  },
  {
   "cell_type": "code",
   "execution_count": null,
   "metadata": {},
   "outputs": [],
   "source": []
  },
  {
   "cell_type": "code",
   "execution_count": null,
   "metadata": {},
   "outputs": [],
   "source": [
    "from sklearn.decomposition import PCA\n",
    "\n",
    "#rows as chips and columns as tests\n",
    "pca = PCA(n_components=5000)\n",
    "reduced_data = pca.fit_transform(data)"
   ]
  },
  {
   "cell_type": "code",
   "execution_count": null,
   "metadata": {},
   "outputs": [],
   "source": []
  }
 ],
 "metadata": {
  "kernelspec": {
   "display_name": "Python 3",
   "language": "python",
   "name": "python3"
  },
  "language_info": {
   "codemirror_mode": {
    "name": "ipython",
    "version": 3
   },
   "file_extension": ".py",
   "mimetype": "text/x-python",
   "name": "python",
   "nbconvert_exporter": "python",
   "pygments_lexer": "ipython3",
   "version": "3.9.18"
  },
  "vscode": {
   "interpreter": {
    "hash": "a665b5d41d17b532ea9890333293a1b812fa0b73c9c25c950b3cedf1bebd0438"
   }
  }
 },
 "nbformat": 4,
 "nbformat_minor": 2
}
