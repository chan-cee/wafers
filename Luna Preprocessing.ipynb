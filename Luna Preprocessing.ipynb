{
 "cells": [
  {
   "cell_type": "code",
   "execution_count": 4,
   "metadata": {},
   "outputs": [],
   "source": [
    "import pandas as pd\n",
    "import numpy as np"
   ]
  },
  {
   "cell_type": "code",
   "execution_count": 5,
   "metadata": {},
   "outputs": [],
   "source": [
    "YK_label = pd.read_excel('../data/YK_LABEL.xlsx')\n",
    "YK_data = pd.read_csv('../data/YK_training_ULT.csv')"
   ]
  },
  {
   "cell_type": "code",
   "execution_count": 6,
   "metadata": {},
   "outputs": [
    {
     "name": "stdout",
     "output_type": "stream",
     "text": [
      "(69577, 1076)\n"
     ]
    }
   ],
   "source": [
    "#Looking at the shape of each dataset\n",
    "print(YK_data.shape)"
   ]
  },
  {
   "cell_type": "code",
   "execution_count": 7,
   "metadata": {},
   "outputs": [],
   "source": [
    "#Function to drop columns (tests) in the raw data file which are NOT tests (i.e metadata like start time, lot number etc)\n",
    "def test_only(datafile,labelfile):\n",
    "    keys = list(labelfile['Name'])\n",
    "    df = datafile[keys]\n",
    "    return df"
   ]
  },
  {
   "cell_type": "code",
   "execution_count": 8,
   "metadata": {},
   "outputs": [
    {
     "name": "stdout",
     "output_type": "stream",
     "text": [
      "(69577, 1039)\n",
      "   temperature  Device_Test_Time  \\\n",
      "0         25.0           22332.0   \n",
      "1         25.0           11976.0   \n",
      "2         25.0           11920.0   \n",
      "3         25.0            9224.0   \n",
      "4         25.0           11936.0   \n",
      "\n",
      "   otp_read_line0_stdf_:ULT_Chksum@ULT_Chksum[1]  Part_Id  \\\n",
      "0                                            NaN      1.0   \n",
      "1                                            NaN      2.0   \n",
      "2                                            NaN      3.0   \n",
      "3                                            NaN      4.0   \n",
      "4                                            NaN      5.0   \n",
      "\n",
      "   otp_read_blank:Functional[1]  g2bist_efuse_blank_read_f_:Functional[1]  \\\n",
      "0                           NaN                                       NaN   \n",
      "1                           NaN                                       NaN   \n",
      "2                           NaN                                       NaN   \n",
      "3                           NaN                                       NaN   \n",
      "4                           NaN                                       NaN   \n",
      "\n",
      "   tdf_50k_1_f_:Functional[1]  tdf_50k_2_f_:Functional[1]  \\\n",
      "0                         NaN                         NaN   \n",
      "1                         NaN                         NaN   \n",
      "2                         NaN                         NaN   \n",
      "3                         NaN                         NaN   \n",
      "4                         NaN                         NaN   \n",
      "\n",
      "   stf_50k_1_f_:Functional[1]  write_dro_sidd:Functional[1]  ...  \\\n",
      "0                         NaN                          -1.0  ...   \n",
      "1                         NaN                          -1.0  ...   \n",
      "2                         NaN                          -1.0  ...   \n",
      "3                         NaN                          -1.0  ...   \n",
      "4                         NaN                          -1.0  ...   \n",
      "\n",
      "   tdf_90k_18_p_:Functional[1]  tdf_90k_1_p_:Functional[1]  \\\n",
      "0                         -1.0                        -1.0   \n",
      "1                         -1.0                        -1.0   \n",
      "2                         -1.0                        -1.0   \n",
      "3                         -1.0                        -1.0   \n",
      "4                         -1.0                        -1.0   \n",
      "\n",
      "   tdf_90k_2_p_:Functional[1]  tdf_90k_3_p_:Functional[1]  \\\n",
      "0                        -1.0                        -1.0   \n",
      "1                        -1.0                        -1.0   \n",
      "2                        -1.0                        -1.0   \n",
      "3                        -1.0                        -1.0   \n",
      "4                        -1.0                        -1.0   \n",
      "\n",
      "   tdf_90k_4_p_:Functional[1]  tdf_90k_5_p_:Functional[1]  \\\n",
      "0                        -1.0                        -1.0   \n",
      "1                        -1.0                        -1.0   \n",
      "2                        -1.0                        -1.0   \n",
      "3                        -1.0                        -1.0   \n",
      "4                        -1.0                        -1.0   \n",
      "\n",
      "   tdf_90k_6_p_:Functional[1]  tdf_90k_7_p_:Functional[1]  \\\n",
      "0                        -1.0                        -1.0   \n",
      "1                        -1.0                        -1.0   \n",
      "2                        -1.0                        -1.0   \n",
      "3                        -1.0                        -1.0   \n",
      "4                        -1.0                        -1.0   \n",
      "\n",
      "   tdf_90k_8_p_:Functional[1]  tdf_90k_9_p_:Functional[1]  \n",
      "0                        -1.0                        -1.0  \n",
      "1                        -1.0                        -1.0  \n",
      "2                        -1.0                        -1.0  \n",
      "3                        -1.0                        -1.0  \n",
      "4                        -1.0                        -1.0  \n",
      "\n",
      "[5 rows x 1039 columns]\n"
     ]
    }
   ],
   "source": [
    "#Applying the functions to file \n",
    "YK_dropped = test_only(YK_data,YK_label)\n",
    "#Checking the shape and how the data looks like\n",
    "print(YK_dropped.shape)\n",
    "print(YK_dropped.head())"
   ]
  },
  {
   "cell_type": "markdown",
   "metadata": {},
   "source": [
    "## Identifying the columns with less than 50,000 data points\n",
    "For these columns, there are 2 ways of dealing with them - (i) to drop these columns completely and (ii) to replace the missing values"
   ]
  },
  {
   "cell_type": "code",
   "execution_count": 9,
   "metadata": {},
   "outputs": [],
   "source": [
    "def identify_col(df):\n",
    "    null_perCol = df.isnull().sum()\n",
    "    insuff_col = {}\n",
    "    for index in range(len(null_perCol)):\n",
    "        if(df.shape[0]-null_perCol[index]<50000):\n",
    "            insuff_col[null_perCol.index[index]] = null_perCol[index]\n",
    "    return list(insuff_col.keys())"
   ]
  },
  {
   "cell_type": "code",
   "execution_count": 10,
   "metadata": {},
   "outputs": [
    {
     "name": "stdout",
     "output_type": "stream",
     "text": [
      "For YK data:  ['otp_read_line0_stdf_:ULT_Chksum@ULT_Chksum[1]', 'otp_read_blank:Functional[1]', 'g2bist_efuse_blank_read_f_:Functional[1]', 'tdf_50k_1_f_:Functional[1]', 'tdf_50k_2_f_:Functional[1]', 'stf_50k_1_f_:Functional[1]', 'tdf_50k_6_f_:Functional[1]', 'tdf_50k_3_f_:Functional[1]', 'g2bist_mac_256mhz_max_:Functional[1]', 'g2bist_mac_256mhz_min_:Functional[1]', 'sbist_soc_256mhz_max_:Functional[1]', 'sbist_soc_256mhz_min_:Functional[1]', 'stf_50k_2_f_:Functional[1]', 'stf_50k_3_f_:Functional[1]', 'stf_50k_4_f_:Functional[1]', 'tdf_50k_4_f_:Functional[1]', 'tdf_50k_5_f_:Functional[1]', 'tdf_50k_9_f_:Functional[1]', 'tdf_50k_8_f_:Functional[1]', 'tdf_90k_1_f_:Functional[1]', 'otp_read_line0_sva_f_:Functional[1]', 'tdf_50k_7_f_:Functional[1]', 'tdf_50k_10_f_:Functional[1]', 'tdf_90k_2_f_:Functional[1]', 'tdf_90k_3_f_:Functional[1]', 'tdf_90k_4_f_:Functional[1]', 'tdf_90k_5_f_:Functional[1]', 'tdf_90k_6_f_:Functional[1]', 'tdf_90k_7_f_:Functional[1]', 'tdf_90k_8_f_:Functional[1]', 'tdf_90k_9_f_:Functional[1]', 'tdf_90k_10_f_:Functional[1]', 'tdf_90k_11_f_:Functional[1]', 'tdf_90k_12_f_:Functional[1]', 'tdf_90k_13_f_:Functional[1]', 'tdf_90k_14_f_:Functional[1]', 'tdf_90k_15_f_:Functional[1]', 'tdf_90k_16_f_:Functional[1]', 'tdf_90k_17_f_:Functional[1]', 'tdf_90k_18_f_:Functional[1]']\n"
     ]
    }
   ],
   "source": [
    "#Applying the above function to set of data\n",
    "YK_less50000 = identify_col(YK_dropped)\n",
    "#Printing to see the tests (columns) that has <50,000 data points \n",
    "print(\"For YK data: \",YK_less50000)"
   ]
  },
  {
   "cell_type": "markdown",
   "metadata": {},
   "source": [
    "## Identify the applicable columns (i.e those with a label)\n",
    "Those without a label will be dropped, since there will not be any response variable (distribution of categories) to predict the predictor variable (data points)"
   ]
  },
  {
   "cell_type": "code",
   "execution_count": 11,
   "metadata": {},
   "outputs": [],
   "source": [
    "#Function to find out non applicable rows (no distribution, not part of training data)\n",
    "def non_applicable (df_label):\n",
    "    null_rowsLabel = df_label[df_label['Distribution Type'].isnull()]\n",
    "    null_rowsLabel = list(null_rowsLabel['Name'])\n",
    "    return null_rowsLabel"
   ]
  },
  {
   "cell_type": "code",
   "execution_count": 12,
   "metadata": {},
   "outputs": [
    {
     "name": "stdout",
     "output_type": "stream",
     "text": [
      "['otp_read_line0_stdf_:ULT_Chksum@ULT_Chksum[1]', 'otp_read_blank:Functional[1]', 'tdf_50k_1_f_:Functional[1]', 'tdf_50k_4_f_:Functional[1]', 'tdf_50k_9_f_:Functional[1]', 'tdf_50k_8_f_:Functional[1]', 'otp_read_line0_sva_f_:Functional[1]', 'tdf_50k_10_f_:Functional[1]', 'tdf_90k_2_f_:Functional[1]', 'tdf_90k_7_f_:Functional[1]', 'tdf_90k_8_f_:Functional[1]', 'tdf_90k_10_f_:Functional[1]', 'tdf_90k_11_f_:Functional[1]', 'tdf_90k_15_f_:Functional[1]']\n",
      "14\n"
     ]
    }
   ],
   "source": [
    "#Applying the above function to set of data\n",
    "YK_non_applicable = non_applicable(YK_label)\n",
    "#Printing the tests (columns) to see which tests do not have a distribution (i.e not applicable)\n",
    "print(YK_non_applicable)\n",
    "print(len(YK_non_applicable))"
   ]
  },
  {
   "cell_type": "markdown",
   "metadata": {},
   "source": [
    "## Identifying the applicable columns with <50,000 data points\n",
    "These columns could either be dropped, or replace with data, depending on the nature of the columns/test itself."
   ]
  },
  {
   "cell_type": "code",
   "execution_count": 13,
   "metadata": {},
   "outputs": [],
   "source": [
    "#Function to find out the specific columns which we will need to inspect\n",
    "def col_inspect(insuff_col_keys,null_rowsLabel):\n",
    "    col_to_inspect = [i for i in insuff_col_keys if i not in null_rowsLabel]\n",
    "    return col_to_inspect"
   ]
  },
  {
   "cell_type": "markdown",
   "metadata": {},
   "source": [
    "The code above is to find the columns with <50,000 points, yet are applicable (i.e there is a label). This means that these are the columns we would need to inspect and do some pre processing to them so that there is sufficient data points (50,000) to train these test."
   ]
  },
  {
   "cell_type": "code",
   "execution_count": 14,
   "metadata": {},
   "outputs": [
    {
     "name": "stdout",
     "output_type": "stream",
     "text": [
      "['g2bist_efuse_blank_read_f_:Functional[1]', 'tdf_50k_2_f_:Functional[1]', 'stf_50k_1_f_:Functional[1]', 'tdf_50k_6_f_:Functional[1]', 'tdf_50k_3_f_:Functional[1]', 'g2bist_mac_256mhz_max_:Functional[1]', 'g2bist_mac_256mhz_min_:Functional[1]', 'sbist_soc_256mhz_max_:Functional[1]', 'sbist_soc_256mhz_min_:Functional[1]', 'stf_50k_2_f_:Functional[1]', 'stf_50k_3_f_:Functional[1]', 'stf_50k_4_f_:Functional[1]', 'tdf_50k_5_f_:Functional[1]', 'tdf_90k_1_f_:Functional[1]', 'tdf_50k_7_f_:Functional[1]', 'tdf_90k_3_f_:Functional[1]', 'tdf_90k_4_f_:Functional[1]', 'tdf_90k_5_f_:Functional[1]', 'tdf_90k_6_f_:Functional[1]', 'tdf_90k_9_f_:Functional[1]', 'tdf_90k_12_f_:Functional[1]', 'tdf_90k_13_f_:Functional[1]', 'tdf_90k_14_f_:Functional[1]', 'tdf_90k_16_f_:Functional[1]', 'tdf_90k_17_f_:Functional[1]', 'tdf_90k_18_f_:Functional[1]']\n"
     ]
    }
   ],
   "source": [
    "#Applying the above function to set of data\n",
    "YK_inspect = col_inspect(YK_less50000,YK_non_applicable)\n",
    "#Printing to see the cols to inspect\n",
    "print(YK_inspect)"
   ]
  },
  {
   "cell_type": "markdown",
   "metadata": {},
   "source": [
    "## Replacing the missing values in these columns\n",
    "Note that as shown by the printed output above, for YK data, all the columns to inspect (those applicable and with <50,000 data points), they are all functional tests. we would need to do another round of checks to find out the distributions (labels) of the tests above to ensure that the replacement of missing values does not affect the distribution. "
   ]
  },
  {
   "cell_type": "code",
   "execution_count": 15,
   "metadata": {},
   "outputs": [
    {
     "data": {
      "text/plain": [
       "functional    26\n",
       "Name: Distribution Type, dtype: int64"
      ]
     },
     "execution_count": 15,
     "metadata": {},
     "output_type": "execute_result"
    }
   ],
   "source": [
    "#Checking the distribution of the col shown above to inspect if there are really functional!\n",
    "check_labels = YK_label[YK_label['Name'].isin(YK_inspect)]\n",
    "check_labels['Distribution Type'].value_counts()"
   ]
  },
  {
   "cell_type": "markdown",
   "metadata": {},
   "source": [
    "Since the above columns are all functional, we replace the missing values with 0 or 1 (since it will not affect the distribution)"
   ]
  },
  {
   "cell_type": "code",
   "execution_count": 16,
   "metadata": {},
   "outputs": [],
   "source": [
    "#Function to replace the missing values with 0 and 1\n",
    "def replace_func(df_dropped,df_col_inspect,non_applicable):\n",
    "    pd.options.mode.chained_assignment = None \n",
    "    #Replacing missing 0 and 1 values\n",
    "    for cols in df_col_inspect:\n",
    "        null_count = df_dropped[cols].isnull().sum()\n",
    "        df_dropped[cols] = df_dropped[cols].fillna(pd.Series(np.random.choice([0,-1],size=null_count)))\n",
    "    #Dropping the tests with no distributions (not applicable)\n",
    "    df = df_dropped.drop(columns=non_applicable)\n",
    "    return df"
   ]
  },
  {
   "cell_type": "code",
   "execution_count": 17,
   "metadata": {},
   "outputs": [],
   "source": [
    "#Applying it on data sets\n",
    "YK_replace = replace_func(YK_dropped,YK_inspect,YK_non_applicable)"
   ]
  },
  {
   "cell_type": "code",
   "execution_count": 18,
   "metadata": {},
   "outputs": [],
   "source": [
    "#Check if everything is replaced correctly (no more null values for the columns with <50000) data points\n",
    "def check_nonull(df):\n",
    "    null_perCol = df.isnull().sum()\n",
    "    insuff_col = {}\n",
    "    for index in range(len(null_perCol)):\n",
    "        if(df.shape[0]-null_perCol[index]<50000):\n",
    "            insuff_col[null_perCol.index[index]] = null_perCol[index]\n",
    "    print(insuff_col)\n",
    "    print(len(insuff_col))"
   ]
  },
  {
   "cell_type": "code",
   "execution_count": 19,
   "metadata": {},
   "outputs": [
    {
     "name": "stdout",
     "output_type": "stream",
     "text": [
      "{}\n",
      "0\n"
     ]
    }
   ],
   "source": [
    "check_nonull(YK_replace)"
   ]
  },
  {
   "cell_type": "markdown",
   "metadata": {},
   "source": [
    "## Sampling data\n",
    "For columns with >50000 data points, systematic sampling + randomised sampling will be done. In intervals of 2, data points will be selected and the leftover points will be selected by random"
   ]
  },
  {
   "cell_type": "code",
   "execution_count": 20,
   "metadata": {},
   "outputs": [],
   "source": [
    "#Converting systematic sampling (FOR FLOATS) to a function\n",
    "def float_sample_2(population,sample_size):\n",
    "    base_interval = len(population) // sample_size\n",
    "    remainder = len(population)%sample_size\n",
    "    #indices = []\n",
    "    indices = {}\n",
    "    #Add in min and max points in array\n",
    "    min_index = population.argmin()\n",
    "    max_index = population.argmax()\n",
    "    indices[0] = min_index\n",
    "    indices[1] = max_index\n",
    "    start_index = np.random.randint(0,base_interval)\n",
    "    for i in range(2,sample_size):\n",
    "        interval = base_interval + 1 if i < remainder else base_interval\n",
    "        #print(\"Interval is: \", interval)\n",
    "        index = (start_index + i * interval) % len(population)\n",
    "        #print(\"Index is: \",index)\n",
    "        #indices.append(index)\n",
    "        indices[i] = index\n",
    "    #print(\"The dict is: \",indices)\n",
    "    unique_indices = list(indices.values())\n",
    "    unique_indices = [*set(unique_indices)]\n",
    "    systematic_sample = population[unique_indices]\n",
    "    #print(\"Before delete\")\n",
    "    #print(\"systematic_sample: \",systematic_sample)\n",
    "    population = np.delete(population,unique_indices)\n",
    "    #print(\"After delete\")\n",
    "    if len(systematic_sample) < sample_size:\n",
    "        remaining_samples = sample_size - len(systematic_sample)\n",
    "        remaining_indices = np.random.choice(len(population),remaining_samples,replace=False)\n",
    "        systematic_sample = np.concatenate((systematic_sample,population[remaining_indices]))\n",
    "    return systematic_sample"
   ]
  },
  {
   "cell_type": "code",
   "execution_count": 21,
   "metadata": {},
   "outputs": [],
   "source": [
    "#Function to apply the systematic sampling for the function \n",
    "def apply_sampling(df):\n",
    "    new_df = pd.DataFrame()\n",
    "    for colName,colData in df.items():\n",
    "        data = df.dropna(subset=colName)\n",
    "        newCol = list(data[colName])\n",
    "        newCol = np.array(newCol)\n",
    "        newCol = pd.Series(float_sample_2(newCol,50000))\n",
    "        #Can only concat after sampling!!\n",
    "        new_df = pd.concat([new_df,newCol.rename(colName)],axis=1)\n",
    "    return new_df"
   ]
  },
  {
   "cell_type": "code",
   "execution_count": null,
   "metadata": {},
   "outputs": [],
   "source": [
    "#Apply sampling functions to datasets\n",
    "YK_data_final = apply_sampling(YK_replace)"
   ]
  },
  {
   "cell_type": "markdown",
   "metadata": {},
   "source": [
    "## Normalisation of the data \n",
    "Data are normalised using the min max module from scikit learn. This will compress the data points from 0 to 1 but will not change its distribution."
   ]
  },
  {
   "cell_type": "code",
   "execution_count": 23,
   "metadata": {},
   "outputs": [],
   "source": [
    "#Import relevant packages \n",
    "from sklearn import preprocessing\n",
    "min_max = preprocessing.MinMaxScaler()"
   ]
  },
  {
   "cell_type": "code",
   "execution_count": 24,
   "metadata": {},
   "outputs": [],
   "source": [
    "#Function to normalise all the columns in a dataframe\n",
    "def normalise(df):\n",
    "    final_df = pd.DataFrame()\n",
    "    for colName,colData in df.items():\n",
    "        c_scaled = min_max.fit_transform(df[[colName]])\n",
    "        c_scaled = pd.Series(c_scaled.ravel())\n",
    "        final_df = pd.concat([final_df,c_scaled.rename(colName)],axis=1)\n",
    "    return final_df"
   ]
  },
  {
   "cell_type": "code",
   "execution_count": 25,
   "metadata": {},
   "outputs": [
    {
     "name": "stdout",
     "output_type": "stream",
     "text": [
      "(50000, 1025)\n",
      "   temperature  Device_Test_Time   Part_Id  \\\n",
      "0          0.0          0.399193  0.000000   \n",
      "1          0.0          0.397441  0.000206   \n",
      "2          0.0          0.396992  0.000308   \n",
      "3          0.0          0.586461  0.000411   \n",
      "4          0.0          0.586461  0.000514   \n",
      "\n",
      "   g2bist_efuse_blank_read_f_:Functional[1]  tdf_50k_2_f_:Functional[1]  \\\n",
      "0                                       1.0                         1.0   \n",
      "1                                       0.0                         0.0   \n",
      "2                                       1.0                         1.0   \n",
      "3                                       0.0                         0.0   \n",
      "4                                       0.0                         1.0   \n",
      "\n",
      "   stf_50k_1_f_:Functional[1]  write_dro_sidd:Functional[1]  \\\n",
      "0                         0.0                           0.0   \n",
      "1                         1.0                           0.0   \n",
      "2                         0.0                           0.0   \n",
      "3                         1.0                           0.0   \n",
      "4                         1.0                           0.0   \n",
      "\n",
      "   brf1_fsm_tx_:Functional[1]  otp_array_readout_min:Functional[1]  \\\n",
      "0                         0.0                                  0.0   \n",
      "1                         0.0                                  0.0   \n",
      "2                         0.0                                  0.0   \n",
      "3                         0.0                                  0.0   \n",
      "4                         0.0                                  0.0   \n",
      "\n",
      "   bbud_lpbk_min:Functional[1]  ...  tdf_90k_18_p_:Functional[1]  \\\n",
      "0                          0.0  ...                          0.0   \n",
      "1                          0.0  ...                          0.0   \n",
      "2                          0.0  ...                          0.0   \n",
      "3                          0.0  ...                          0.0   \n",
      "4                          0.0  ...                          0.0   \n",
      "\n",
      "   tdf_90k_1_p_:Functional[1]  tdf_90k_2_p_:Functional[1]  \\\n",
      "0                         0.0                         0.0   \n",
      "1                         0.0                         0.0   \n",
      "2                         0.0                         0.0   \n",
      "3                         0.0                         0.0   \n",
      "4                         0.0                         0.0   \n",
      "\n",
      "   tdf_90k_3_p_:Functional[1]  tdf_90k_4_p_:Functional[1]  \\\n",
      "0                         0.0                         0.0   \n",
      "1                         0.0                         0.0   \n",
      "2                         0.0                         0.0   \n",
      "3                         0.0                         0.0   \n",
      "4                         0.0                         0.0   \n",
      "\n",
      "   tdf_90k_5_p_:Functional[1]  tdf_90k_6_p_:Functional[1]  \\\n",
      "0                         0.0                         0.0   \n",
      "1                         0.0                         0.0   \n",
      "2                         0.0                         0.0   \n",
      "3                         0.0                         0.0   \n",
      "4                         0.0                         0.0   \n",
      "\n",
      "   tdf_90k_7_p_:Functional[1]  tdf_90k_8_p_:Functional[1]  \\\n",
      "0                         0.0                         0.0   \n",
      "1                         0.0                         0.0   \n",
      "2                         0.0                         0.0   \n",
      "3                         0.0                         0.0   \n",
      "4                         0.0                         0.0   \n",
      "\n",
      "   tdf_90k_9_p_:Functional[1]  \n",
      "0                         0.0  \n",
      "1                         0.0  \n",
      "2                         0.0  \n",
      "3                         0.0  \n",
      "4                         0.0  \n",
      "\n",
      "[5 rows x 1025 columns]\n"
     ]
    }
   ],
   "source": [
    "#Applying it to the datasets\n",
    "YK_data_final = normalise(YK_data_final)\n",
    "#Printing to see the shape of the data\n",
    "print(YK_data_final.shape)\n",
    "print(YK_data_final.head())"
   ]
  },
  {
   "cell_type": "markdown",
   "metadata": {},
   "source": [
    "## Pre-processing the label file\n",
    "The codes above are for the raw data (The data points for each test).The labels under the label file (YK_label) are the categorical variables denoting the distribution of each test (each column in the raw data file). There are 6 labels/distribution categories - outlier, normal, longtail, functional, discrete and bimodal. Now we will process the label files and identify those rows where there are no distribution (not applicable) and proceed to drop them. "
   ]
  },
  {
   "cell_type": "code",
   "execution_count": 26,
   "metadata": {},
   "outputs": [],
   "source": [
    "#Function to faciliate the dropping of the null rows in labels file\n",
    "def drop_null_labels(label_df,not_applicable):\n",
    "    df = label_df.drop(label_df[label_df.Name.isin(not_applicable)].index)\n",
    "    return df"
   ]
  },
  {
   "cell_type": "code",
   "execution_count": 27,
   "metadata": {},
   "outputs": [],
   "source": [
    "#Applying it to set of data\n",
    "YK_label_final = drop_null_labels(YK_label,YK_non_applicable)"
   ]
  },
  {
   "cell_type": "markdown",
   "metadata": {},
   "source": [
    "Now for visualisation, we will concatenate the dataframes together, such that we will have 2 columns, 'Name' and 'Distribution Type' for the tests and distribution respectively. We will use the below 2 functions to facilitate the concatenation."
   ]
  },
  {
   "cell_type": "code",
   "execution_count": 28,
   "metadata": {},
   "outputs": [],
   "source": [
    "#Function to concat the dataframes (raw data and the name of the tests) -> row format. i.e 2 columns: data, name\n",
    "def concat_xy(df):\n",
    "    cols = ['Data','Name']\n",
    "    concat_df = pd.DataFrame(columns=cols,index=range(df.shape[1]))\n",
    "    index = 0\n",
    "    for colName, colData in df.items():\n",
    "        #variable index is to retrieve the index of the columns in YK raw (final_df)\n",
    "        vals = np.array(colData.values)\n",
    "        concat_df.loc[index].Data = vals\n",
    "        concat_df.loc[index].Name = colName\n",
    "        index+=1\n",
    "    return concat_df"
   ]
  },
  {
   "cell_type": "code",
   "execution_count": 29,
   "metadata": {},
   "outputs": [
    {
     "name": "stdout",
     "output_type": "stream",
     "text": [
      "                                                Data  \\\n",
      "0  [0.0, 0.0, 0.0, 0.0, 0.0, 0.0, 0.0, 0.0, 0.0, ...   \n",
      "1  [0.399193055385744, 0.39744059991033953, 0.396...   \n",
      "2  [0.0, 0.0002055076037813399, 0.000308261405672...   \n",
      "3  [1.0, 0.0, 1.0, 0.0, 0.0, 0.0, 0.0, 1.0, 1.0, ...   \n",
      "4  [1.0, 0.0, 1.0, 0.0, 1.0, 1.0, 1.0, 0.0, 0.0, ...   \n",
      "\n",
      "                                       Name  \n",
      "0                               temperature  \n",
      "1                          Device_Test_Time  \n",
      "2                                   Part_Id  \n",
      "3  g2bist_efuse_blank_read_f_:Functional[1]  \n",
      "4                tdf_50k_2_f_:Functional[1]  \n"
     ]
    }
   ],
   "source": [
    "#Applying it to our dataset\n",
    "YK_testname_data = concat_xy(YK_data_final)\n",
    "#See how it looks like\n",
    "print(YK_testname_data.head())"
   ]
  },
  {
   "cell_type": "code",
   "execution_count": 30,
   "metadata": {},
   "outputs": [],
   "source": [
    "#Function concatenating the Y (distribution) with the raw data (X) -> dataframe passed in is the label final! concat_df is testname_data\n",
    "def model_xy(label_df,concat_df):\n",
    "    dist_labels = label_df[['Distribution Type','Name']]\n",
    "    model_df = pd.merge(concat_df,dist_labels,on='Name')\n",
    "    model_df_xy = model_df[['Data','Distribution Type']]\n",
    "    return model_df_xy"
   ]
  },
  {
   "cell_type": "code",
   "execution_count": 31,
   "metadata": {},
   "outputs": [
    {
     "name": "stdout",
     "output_type": "stream",
     "text": [
      "(1025, 2)\n",
      "                                                Data Distribution Type\n",
      "0  [0.0, 0.0, 0.0, 0.0, 0.0, 0.0, 0.0, 0.0, 0.0, ...        functional\n",
      "1  [0.399193055385744, 0.39744059991033953, 0.396...          longtail\n",
      "2  [0.0, 0.0002055076037813399, 0.000308261405672...          longtail\n",
      "3  [1.0, 0.0, 1.0, 0.0, 0.0, 0.0, 0.0, 1.0, 1.0, ...        functional\n",
      "4  [1.0, 0.0, 1.0, 0.0, 1.0, 1.0, 1.0, 0.0, 0.0, ...        functional\n"
     ]
    }
   ],
   "source": [
    "#Applying it to the data sets\n",
    "YK_model = model_xy(YK_label_final,YK_testname_data)\n",
    "print(YK_model.shape)\n",
    "#Visualising how it looks like\n",
    "print(YK_model.head())"
   ]
  },
  {
   "attachments": {},
   "cell_type": "markdown",
   "metadata": {},
   "source": [
    "## LUNA\n",
    "Separate distribution type (target labels) into two distinct group. Aim is to group outlier and longtail distributions together, for binary classification task."
   ]
  },
  {
   "cell_type": "code",
   "execution_count": 38,
   "metadata": {},
   "outputs": [
    {
     "data": {
      "image/png": "[encoded data removed]",
      "text/plain": [
       "<Figure size 640x480 with 1 Axes>"
      ]
     },
     "metadata": {},
     "output_type": "display_data"
    }
   ],
   "source": [
    "distribution_counts = YK_model['Distribution Type'].value_counts()\n",
    "\n",
    "import matplotlib.pyplot as plt\n",
    "\n",
    "distribution_counts.plot(kind='bar')\n",
    "plt.title('Distribution Counts')\n",
    "plt.xlabel('Distribution Label')\n",
    "plt.xticks(rotation=0)\n",
    "plt.ylabel('Count')\n",
    "plt.show()\n"
   ]
  },
  {
   "cell_type": "code",
   "execution_count": 39,
   "metadata": {},
   "outputs": [],
   "source": [
    "def relabel_data(original_label):\n",
    "    if original_label in ['outlier', 'longtail']:  \n",
    "        return 'Outlier/Long Tail'\n",
    "    else:\n",
    "        return 'Other'"
   ]
  },
  {
   "cell_type": "code",
   "execution_count": 41,
   "metadata": {},
   "outputs": [],
   "source": [
    "YK_model['new_label'] = YK_model['Distribution Type'].apply(relabel_data)\n"
   ]
  },
  {
   "cell_type": "code",
   "execution_count": 46,
   "metadata": {},
   "outputs": [
    {
     "data": {
      "image/png": "[encoded data removed]",
      "text/plain": [
       "<Figure size 640x480 with 1 Axes>"
      ]
     },
     "metadata": {},
     "output_type": "display_data"
    }
   ],
   "source": [
    "binary_distribution_counts = YK_model['new_label'].value_counts()\n",
    "\n",
    "binary_distribution_counts.plot(kind='bar')\n",
    "plt.title('Distribution Counts')\n",
    "plt.xlabel('Distribution Label')\n",
    "plt.xticks(rotation=0)\n",
    "plt.ylabel('Count')\n",
    "plt.show()"
   ]
  },
  {
   "cell_type": "code",
   "execution_count": null,
   "metadata": {},
   "outputs": [],
   "source": []
  },
  {
   "cell_type": "code",
   "execution_count": null,
   "metadata": {},
   "outputs": [],
   "source": []
  },
  {
   "cell_type": "code",
   "execution_count": null,
   "metadata": {},
   "outputs": [],
   "source": []
  },
  {
   "cell_type": "code",
   "execution_count": null,
   "metadata": {},
   "outputs": [],
   "source": []
  },
  {
   "cell_type": "code",
   "execution_count": null,
   "metadata": {},
   "outputs": [],
   "source": []
  },
  {
   "cell_type": "code",
   "execution_count": null,
   "metadata": {},
   "outputs": [],
   "source": []
  },
  {
   "cell_type": "code",
   "execution_count": null,
   "metadata": {},
   "outputs": [],
   "source": []
  }
 ],
 "metadata": {
  "kernelspec": {
   "display_name": "Python 3",
   "language": "python",
   "name": "python3"
  },
  "language_info": {
   "codemirror_mode": {
    "name": "ipython",
    "version": 3
   },
   "file_extension": ".py",
   "mimetype": "text/x-python",
   "name": "python",
   "nbconvert_exporter": "python",
   "pygments_lexer": "ipython3",
   "version": "3.9.18"
  },
  "vscode": {
   "interpreter": {
    "hash": "a665b5d41d17b532ea9890333293a1b812fa0b73c9c25c950b3cedf1bebd0438"
   }
  }
 },
 "nbformat": 4,
 "nbformat_minor": 2
}
