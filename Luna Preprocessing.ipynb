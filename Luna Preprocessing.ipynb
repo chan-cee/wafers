{
 "cells": [
  {
   "cell_type": "code",
   "execution_count": 1,
   "metadata": {},
   "outputs": [],
   "source": [
    "import pandas as pd\n",
    "import numpy as np"
   ]
  },
  {
   "cell_type": "code",
   "execution_count": 8,
   "metadata": {},
   "outputs": [],
   "source": [
    "YK_label = pd.read_excel('../data/csv_data/YK_LABEL.xlsx')\n",
    "YK_data = pd.read_csv('../data/csv_data/YK_training_ULT.csv')"
   ]
  },
  {
   "cell_type": "code",
   "execution_count": 9,
   "metadata": {},
   "outputs": [
    {
     "name": "stdout",
     "output_type": "stream",
     "text": [
      "(69577, 1076)\n"
     ]
    }
   ],
   "source": [
    "#Looking at the shape of each dataset\n",
    "print(YK_data.shape)"
   ]
  },
  {
   "cell_type": "code",
   "execution_count": 10,
   "metadata": {},
   "outputs": [],
   "source": [
    "#Function to drop columns (tests) in the raw data file which are NOT tests (i.e metadata like start time, lot number etc)\n",
    "def test_only(datafile,labelfile):\n",
    "    keys = list(labelfile['Name'])\n",
    "    df = datafile[keys]\n",
    "    return df"
   ]
  },
  {
   "cell_type": "code",
   "execution_count": null,
   "metadata": {},
   "outputs": [],
   "source": [
    "#Applying the functions to file \n",
    "YK_dropped = test_only(YK_data,YK_label)\n",
    "#Checking the shape and how the data looks like\n",
    "print(YK_dropped.shape)\n",
    "print(YK_dropped.head())"
   ]
  },
  {
   "cell_type": "code",
   "execution_count": null,
   "metadata": {},
   "outputs": [],
   "source": []
  },
  {
   "cell_type": "code",
   "execution_count": null,
   "metadata": {},
   "outputs": [],
   "source": []
  }
 ],
 "metadata": {
  "kernelspec": {
   "display_name": "Python 3",
   "language": "python",
   "name": "python3"
  },
  "language_info": {
   "codemirror_mode": {
    "name": "ipython",
    "version": 3
   },
   "file_extension": ".py",
   "mimetype": "text/x-python",
   "name": "python",
   "nbconvert_exporter": "python",
   "pygments_lexer": "ipython3",
   "version": "3.10.11"
  }
 },
 "nbformat": 4,
 "nbformat_minor": 2
}
