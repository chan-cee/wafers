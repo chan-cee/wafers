{
 "cells": [
  {
   "cell_type": "code",
   "execution_count": 1,
   "metadata": {},
   "outputs": [],
   "source": [
    "import pandas as pd\n",
    "import numpy as np"
   ]
  },
  {
   "cell_type": "code",
   "execution_count": 13,
   "metadata": {},
   "outputs": [],
   "source": [
    "YK_label = pd.read_excel('../data/YK_LABEL.xlsx')\n",
    "YK_data = pd.read_csv('../data/YK_training_ULT.csv')"
   ]
  },
  {
   "cell_type": "code",
   "execution_count": 9,
   "metadata": {},
   "outputs": [
    {
     "name": "stdout",
     "output_type": "stream",
     "text": [
      "(69577, 1076)\n"
     ]
    }
   ],
   "source": [
    "#Looking at the shape of each dataset\n",
    "print(YK_data.shape)"
   ]
  },
  {
   "cell_type": "code",
   "execution_count": 10,
   "metadata": {},
   "outputs": [],
   "source": [
    "#Function to drop columns (tests) in the raw data file which are NOT tests (i.e metadata like start time, lot number etc)\n",
    "def test_only(datafile,labelfile):\n",
    "    keys = list(labelfile['Name'])\n",
    "    df = datafile[keys]\n",
    "    return df"
   ]
  },
  {
   "cell_type": "code",
   "execution_count": null,
   "metadata": {},
   "outputs": [],
   "source": [
    "#Applying the functions to file \n",
    "YK_dropped = test_only(YK_data,YK_label)\n",
    "#Checking the shape and how the data looks like\n",
    "print(YK_dropped.shape)\n",
    "print(YK_dropped.head())"
   ]
  },
  {
   "cell_type": "markdown",
   "metadata": {},
   "source": [
    "## Identifying the columns with less than 50,000 data points\n",
    "For these columns, there are 2 ways of dealing with them - (i) to drop these columns completely and (ii) to replace the missing values"
   ]
  },
  {
   "cell_type": "code",
   "execution_count": null,
   "metadata": {},
   "outputs": [],
   "source": [
    "def identify_col(df):\n",
    "    null_perCol = df.isnull().sum()\n",
    "    insuff_col = {}\n",
    "    for index in range(len(null_perCol)):\n",
    "        if(df.shape[0]-null_perCol[index]<50000):\n",
    "            insuff_col[null_perCol.index[index]] = null_perCol[index]\n",
    "    return list(insuff_col.keys())"
   ]
  },
  {
   "cell_type": "code",
   "execution_count": null,
   "metadata": {},
   "outputs": [],
   "source": [
    "#Applying the above function to set of data\n",
    "YK_less50000 = identify_col(YK_dropped)\n",
    "#Printing to see the tests (columns) that has <50,000 data points \n",
    "print(\"For YK data: \",YK_less50000)"
   ]
  },
  {
   "cell_type": "markdown",
   "metadata": {},
   "source": [
    "## Identify the applicable columns (i.e those with a label)\n",
    "Those without a label will be dropped, since there will not be any response variable (distribution of categories) to predict the predictor variable (data points)"
   ]
  },
  {
   "cell_type": "code",
   "execution_count": null,
   "metadata": {},
   "outputs": [],
   "source": [
    "#Function to find out non applicable rows (no distribution, not part of training data)\n",
    "def non_applicable (df_label):\n",
    "    null_rowsLabel = df_label[df_label['Distribution Type'].isnull()]\n",
    "    null_rowsLabel = list(null_rowsLabel['Name'])\n",
    "    return null_rowsLabel"
   ]
  },
  {
   "cell_type": "code",
   "execution_count": null,
   "metadata": {},
   "outputs": [
    {
     "name": "stdout",
     "output_type": "stream",
     "text": [
      "['otp_read_line0_stdf_:ULT_Chksum@ULT_Chksum[1]', 'otp_read_blank:Functional[1]', 'tdf_50k_1_f_:Functional[1]', 'tdf_50k_4_f_:Functional[1]', 'tdf_50k_9_f_:Functional[1]', 'tdf_50k_8_f_:Functional[1]', 'otp_read_line0_sva_f_:Functional[1]', 'tdf_50k_10_f_:Functional[1]', 'tdf_90k_2_f_:Functional[1]', 'tdf_90k_7_f_:Functional[1]', 'tdf_90k_8_f_:Functional[1]', 'tdf_90k_10_f_:Functional[1]', 'tdf_90k_11_f_:Functional[1]', 'tdf_90k_15_f_:Functional[1]']\n",
      "14\n"
     ]
    }
   ],
   "source": [
    "#Applying the above function to set of data\n",
    "YK_non_applicable = non_applicable(YK_label)\n",
    "#Printing the tests (columns) to see which tests do not have a distribution (i.e not applicable)\n",
    "print(YK_non_applicable)\n",
    "print(len(YK_non_applicable))"
   ]
  },
  {
   "cell_type": "code",
   "execution_count": null,
   "metadata": {},
   "outputs": [],
   "source": []
  },
  {
   "cell_type": "code",
   "execution_count": null,
   "metadata": {},
   "outputs": [],
   "source": []
  },
  {
   "cell_type": "code",
   "execution_count": null,
   "metadata": {},
   "outputs": [],
   "source": []
  },
  {
   "cell_type": "code",
   "execution_count": null,
   "metadata": {},
   "outputs": [],
   "source": []
  },
  {
   "cell_type": "code",
   "execution_count": null,
   "metadata": {},
   "outputs": [],
   "source": []
  },
  {
   "cell_type": "code",
   "execution_count": null,
   "metadata": {},
   "outputs": [],
   "source": []
  },
  {
   "cell_type": "code",
   "execution_count": null,
   "metadata": {},
   "outputs": [],
   "source": []
  },
  {
   "cell_type": "code",
   "execution_count": null,
   "metadata": {},
   "outputs": [],
   "source": []
  },
  {
   "cell_type": "code",
   "execution_count": null,
   "metadata": {},
   "outputs": [],
   "source": []
  },
  {
   "cell_type": "code",
   "execution_count": null,
   "metadata": {},
   "outputs": [],
   "source": []
  },
  {
   "cell_type": "code",
   "execution_count": null,
   "metadata": {},
   "outputs": [],
   "source": []
  }
 ],
 "metadata": {
  "kernelspec": {
   "display_name": "Python 3",
   "language": "python",
   "name": "python3"
  },
  "language_info": {
   "codemirror_mode": {
    "name": "ipython",
    "version": 3
   },
   "file_extension": ".py",
   "mimetype": "text/x-python",
   "name": "python",
   "nbconvert_exporter": "python",
   "pygments_lexer": "ipython3",
   "version": "3.10.11"
  }
 },
 "nbformat": 4,
 "nbformat_minor": 2
}
